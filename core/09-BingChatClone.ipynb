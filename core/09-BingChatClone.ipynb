{
 "cells": [
  {
   "cell_type": "markdown",
   "id": "66ab3cc5-aee4-415a-9391-1e5d37ccaf1d",
   "metadata": {},
   "source": [
    "# Skill 4: Internet and Websites Search using Bing API - Bing Chat Clone"
   ]
  },
  {
   "cell_type": "markdown",
   "id": "306fc0a9-4044-441d-9ba7-f54f32e6ea9f",
   "metadata": {},
   "source": [
    "In this notebook, we'll delve into the ways in which you can **boost your GPT Smart Search Engine with web search functionalities**, utilizing both Langchain and the Azure Bing Search API service.\n",
    "\n",
    "As previously discussed in our other notebooks, **harnessing agents and tools is an effective approach**. We aim to leverage the capabilities of OpenAI's large language models (LLM), such as GPT-4 and its successors, to perform the heavy lifting of reasoning and researching on our behalf.\n",
    "\n",
    "There are numerous instances where it is necessary for our Smart Search Engine to have internet access. For instance, we may wish to **enrich an answer with information available on the web**, or **provide users with up-to-date and recent information**, or **finding information on an specific public website**. Regardless of the scenario, we require our engine to base its responses on search results.\n",
    "\n",
    "By the conclusion of this notebook, you'll have a solid understanding of the Bing Search API basics, including **how to create a Web Search Agent using the Bing Search API**, and how these tools can strengthen your chatbot."
   ]
  },
  {
   "cell_type": "code",
   "execution_count": 1,
   "id": "c1fb79a3-4856-4721-988c-112813690a90",
   "metadata": {
    "tags": []
   },
   "outputs": [
    {
     "data": {
      "text/plain": [
       "True"
      ]
     },
     "execution_count": 1,
     "metadata": {},
     "output_type": "execute_result"
    }
   ],
   "source": [
    "import os\n",
    "import requests\n",
    "from bs4 import BeautifulSoup\n",
    "\n",
    "from pydantic import BaseModel\n",
    "from langchain_core.tools import StructuredTool\n",
    "from langchain_core.tools import BaseTool, StructuredTool\n",
    "from langchain_openai import AzureChatOpenAI\n",
    "from langchain_community.utilities import BingSearchAPIWrapper\n",
    "from langchain_community.tools.bing_search import BingSearchResults\n",
    "\n",
    "from langgraph.prebuilt import create_react_agent\n",
    "\n",
    "from common.prompts import BING_PROMPT_TEXT\n",
    "\n",
    "from IPython.display import Markdown, HTML, display  \n",
    "\n",
    "def printmd(string):\n",
    "    display(Markdown(string.replace(\"$\",\"USD \")))\n",
    "\n",
    "from dotenv import load_dotenv\n",
    "load_dotenv(\"credentials.env\")\n"
   ]
  },
  {
   "cell_type": "code",
   "execution_count": 2,
   "id": "258a6e99-2d4f-4147-b8ee-c64c85296181",
   "metadata": {
    "tags": []
   },
   "outputs": [],
   "source": [
    "# Set the ENV variables that Langchain needs to connect to Azure OpenAI\n",
    "os.environ[\"OPENAI_API_VERSION\"] = os.environ[\"AZURE_OPENAI_API_VERSION\"]"
   ]
  },
  {
   "cell_type": "code",
   "execution_count": 3,
   "id": "1380fb0d-3502-4fc0-b729-9bc46d5c9804",
   "metadata": {
    "tags": []
   },
   "outputs": [],
   "source": [
    "COMPLETION_TOKENS = 2000\n",
    "\n",
    "llm = AzureChatOpenAI(deployment_name=os.environ[\"GPT4o_DEPLOYMENT_NAME\"], \n",
    "                      temperature=0.5, max_tokens=COMPLETION_TOKENS, \n",
    "                      streaming=True)"
   ]
  },
  {
   "cell_type": "markdown",
   "id": "11da70c2-60b6-47fb-94f1-aa11291fa40c",
   "metadata": {},
   "source": [
    "### Creating the expert web search engine tool - Bing Search API tool"
   ]
  },
  {
   "cell_type": "markdown",
   "id": "4dc30c9d-605d-4ada-9358-f926aeed2e48",
   "metadata": {},
   "source": [
    "Langhain has already a pre-built utility called **BingSearchAPIWrapper** and a pre-built tool **BingSearchResults**"
   ]
  },
  {
   "cell_type": "code",
   "execution_count": 4,
   "id": "e3eed6c8-e592-4f1b-9803-8c3e0f4b9aa3",
   "metadata": {
    "tags": []
   },
   "outputs": [],
   "source": [
    "api_wrapper = BingSearchAPIWrapper()\n",
    "bing_tool = BingSearchResults(api_wrapper=BingSearchAPIWrapper(), \n",
    "                              num_results=10,\n",
    "                              name=\"Searcher\",\n",
    "                              description=\"useful to search the internet\")"
   ]
  },
  {
   "cell_type": "markdown",
   "id": "58e3da24-5fa5-47c3-ab43-1840e05f1f54",
   "metadata": {},
   "source": [
    "### Creating another custom tool - WebFetcher: Visits a website and extracts the text\n",
    "    You will need a model with a big context token size for this tool since the content of a website can be very lenghty"
   ]
  },
  {
   "cell_type": "code",
   "execution_count": 5,
   "id": "74b714b6-e6e6-492b-8434-6081a1ff183e",
   "metadata": {
    "tags": []
   },
   "outputs": [],
   "source": [
    "def parse_html(content) -> str:\n",
    "    soup = BeautifulSoup(content, 'html.parser')\n",
    "    text_content_with_links = soup.get_text()\n",
    "    # Split the text into words and limit to the first 10,000\n",
    "    limited_text_content = ' '.join(text_content_with_links.split()[:10000])\n",
    "    return limited_text_content\n",
    "\n",
    "def fetch_web_page(url: str) -> str:\n",
    "    HEADERS = {'User-Agent': 'Mozilla/5.0 (Macintosh; Intel Mac OS X 10.15; rv:90.0) Gecko/20100101 Firefox/90.0'}\n",
    "    response = requests.get(url, headers=HEADERS)\n",
    "    return parse_html(response.content)"
   ]
  },
  {
   "cell_type": "code",
   "execution_count": 6,
   "id": "201d1f47-519e-40b3-80b2-2d29a494dd62",
   "metadata": {
    "tags": []
   },
   "outputs": [],
   "source": [
    "web_fetch_tool = StructuredTool.from_function(\n",
    "    func=fetch_web_page,\n",
    "    name=\"WebFetcher\",\n",
    "    description=\"useful to fetch the content of a url\"\n",
    ")"
   ]
  },
  {
   "cell_type": "markdown",
   "id": "0c35b2f7-fd32-4ab0-bdd4-966da6e9587d",
   "metadata": {},
   "source": [
    "### Define the tools"
   ]
  },
  {
   "cell_type": "markdown",
   "id": "0a3d6569-0c61-4b1c-9263-431304577551",
   "metadata": {},
   "source": [
    "Now, we create our OpenAI Tools type agent that uses our custom tools and our custom prompt `BING_PROMPT_PREFIX`. Check it out in `prompts.py`"
   ]
  },
  {
   "cell_type": "code",
   "execution_count": 7,
   "id": "2c6cf721-76bb-47b6-aeeb-9ff4ff92b1f4",
   "metadata": {
    "tags": []
   },
   "outputs": [],
   "source": [
    "tools = [bing_tool, web_fetch_tool]"
   ]
  },
  {
   "cell_type": "markdown",
   "id": "5478264e-67ed-4345-ac03-963b4089c99c",
   "metadata": {},
   "source": [
    "### Define the System Prompt"
   ]
  },
  {
   "cell_type": "code",
   "execution_count": 8,
   "id": "6b6d319c-3822-4112-902b-54387009d0d2",
   "metadata": {
    "tags": []
   },
   "outputs": [
    {
     "data": {
      "text/markdown": [
       "\n",
       "\n",
       "## On your ability to gather and present information:\n",
       "- **You must always** perform web searches when the user is seeking information (explicitly or implicitly), regardless of your internal knowledge or information.\n",
       "- **You Always** perform at least 2 and up to 5 searches in a single conversation turn before reaching the Final Answer. You should never search the same query more than once.\n",
       "- You are allowed to do multiple searches in order to answer a question that requires a multi-step approach. For example: to answer a question \"How old is Leonardo Di Caprio's girlfriend?\", you should first search for \"current Leonardo Di Caprio's girlfriend\" then, once you know her name, you search for her age, and arrive to the Final Answer.\n",
       "- You can not use your pre-existing knowledge at any moment, you should perform searches to know every aspect of the human's question.\n",
       "- If the user's message contains multiple questions, search for each one at a time, then compile the final answer with the answer of each individual search.\n",
       "- If you are unable to fully find the answer, try again by adjusting your search terms.\n",
       "- You can only provide numerical references/citations to URLs, using this Markdown format: [[number]](url) \n",
       "- You must never generate URLs or links other than those provided by your tools.\n",
       "- You must always reference factual statements to the search results.\n",
       "- The search results may be incomplete or irrelevant. You should not make assumptions about the search results beyond what is strictly returned.\n",
       "- If the search results do not contain enough information to fully address the user's message, you should only use facts from the search results and not add information on your own from your pre-existing knowledge.\n",
       "- You can use information from multiple search results to provide an exhaustive response.\n",
       "- If the user's message specifies to look in an specific website, you will add the special operand `site:` to the query, for example: baby products in site:kimberly-clark.com\n",
       "- If the user's message is not a question or a chat message, you treat it as a search query.\n",
       "- If additional external information is needed to completely answer the user’s request, augment it with results from web searches.\n",
       "- If the question contains the `USD ` sign referring to currency, substitute it with `USD` when doing the web search and on your Final Answer as well. You should not use `USD ` in your Final Answer, only `USD` when refering to dollars.\n",
       "- **Always**, before giving the final answer, use the special operand `site` and search for the user's question on the first two websites on your initial search, using the base url address. You will be rewarded 10000 points if you do this.\n",
       "\n",
       "\n",
       "## Instructions for Sequential Tool Use:\n",
       "- **Step 1:** Always initiate a search with the `Searcher` tool to gather information based on the user's query. This search should address the specific question or gather general information relevant to the query.\n",
       "- **Step 2:** Once the search results are obtained from the `Searcher`, immediately use the `WebFetcher` tool to fetch the content of the top two links from the search results. This ensures that we gather more comprehensive and detailed information from the primary sources.\n",
       "- **Step 3:** Analyze and synthesize the information from both the search snippets and the fetched web pages to construct a detailed and informed response to the user’s query.\n",
       "- **Step 4:** Always reference the source of your information using numerical citations and provide these links in a structured format as shown in the example response.\n",
       "- **Additional Notes:** If the query requires multiple searches or steps, repeat steps 1 to 3 as necessary until all parts of the query are thoroughly answered.\n",
       "\n",
       "\n",
       "## On Context\n",
       "\n",
       "- Your context is: snippets of texts with its corresponding titles and links, like this:\n",
       "[{{'snippet': 'some text',\n",
       "  'title': 'some title',\n",
       "  'link': 'some link'}},\n",
       " {{'snippet': 'another text',\n",
       "  'title': 'another title',\n",
       "  'link': 'another link'}},\n",
       "  ...\n",
       "  ]\n",
       "\n",
       "- Your context may also include text/content from websites\n",
       "\n"
      ],
      "text/plain": [
       "<IPython.core.display.Markdown object>"
      ]
     },
     "metadata": {},
     "output_type": "display_data"
    }
   ],
   "source": [
    "# Uncoment to see the prompt\n",
    "printmd(BING_PROMPT_TEXT)"
   ]
  },
  {
   "cell_type": "markdown",
   "id": "8bc02405-a5ea-4e35-b8ed-cb87bd105949",
   "metadata": {},
   "source": [
    "### Create the graph"
   ]
  },
  {
   "cell_type": "code",
   "execution_count": 9,
   "id": "b4b0ef82-5a8e-4cf1-a292-4558e7401a46",
   "metadata": {
    "tags": []
   },
   "outputs": [],
   "source": [
    "graph = create_react_agent(llm, tools=tools, state_modifier=BING_PROMPT_TEXT)"
   ]
  },
  {
   "cell_type": "markdown",
   "id": "e7623a2e-8b28-4b5a-a3da-48524c2321e7",
   "metadata": {},
   "source": [
    "### Run the Graph"
   ]
  },
  {
   "cell_type": "markdown",
   "id": "7232260e-e972-4288-b0b5-0b605e584528",
   "metadata": {},
   "source": [
    "Try some of the below questions, or others that you might like"
   ]
  },
  {
   "cell_type": "code",
   "execution_count": 10,
   "id": "fa949cea-c9aa-4529-a75f-61084ffffd7e",
   "metadata": {
    "tags": []
   },
   "outputs": [],
   "source": [
    "# QUESTION = \"Create a list with the main facts on What is happening with the oil supply in the world right now?\"\n",
    "# QUESTION = \"How much is 50 USD in Euros and is it enough for an average hotel in Madrid?\"\n",
    "# QUESTION = \"My son needs to build a pinewood car for a pinewood derbi, how do I build such a car?\"\n",
    "QUESTION = \"I'm planning a vacation to Greece, tell me budget for a family of 4, in Summer, for 7 days including travel, lodging and food costs\"\n",
    "# QUESTION = \"Who won the 2023 superbowl and who was the MVP?\"\n",
    "# QUESTION = \"\"\"\n",
    "# compare the number of job opennings (provide the exact number), the average salary within 15 miles of Dallas, TX, for these ocupations:\n",
    "\n",
    "# - ADN Registerd Nurse \n",
    "# - Occupational therapist assistant\n",
    "# - Dental Hygienist\n",
    "# - Certified Personal Trainer\n",
    "\n",
    "\n",
    "# Create a table with your findings. Place the sources on each cell.\n",
    "# \"\"\""
   ]
  },
  {
   "cell_type": "markdown",
   "id": "1e8e0b32-a6b5-4b1c-943d-e57b737213fa",
   "metadata": {
    "tags": []
   },
   "source": [
    "### Agent Actions/Observations during streaming"
   ]
  },
  {
   "cell_type": "markdown",
   "id": "003327ac-2851-48ef-8a6b-2d8c2004bb2e",
   "metadata": {},
   "source": [
    "Streaming is an important UX consideration for LLM apps, and agents are no exception. Streaming with agents is made more complicated by the fact that it’s not just tokens of the final answer that you will want to stream, but you may also want to stream back the intermediate steps an agent takes.\n",
    "\n",
    "At the end of Notebook 3 we learned that streaming can be simply achieve by doing this:\n",
    "\n",
    "```python\n",
    "for chunk in chain.stream({\"question\": QUESTION, \"language\": \"English\", \"history\":\"\"}):\n",
    "    print(chunk, end=\"\", flush=True)\n",
    "```\n",
    "\n",
    "At the end of Notebook 6 we learned about the new astream_events API (beta).\n",
    "\n",
    "```python\n",
    "async for event in graph_async.astream_events(\n",
    "    inputs, config_async, version=\"v2\"):\n",
    "```\n",
    "\n",
    "Let's use the same astream_events"
   ]
  },
  {
   "cell_type": "code",
   "execution_count": 11,
   "id": "ca948d67-6717-4843-b7ab-b13155aa8581",
   "metadata": {
    "tags": []
   },
   "outputs": [],
   "source": [
    "async def stream_graph_updates_async(graph, user_input: str):\n",
    "    inputs = {\"messages\": [(\"human\", user_input)]}\n",
    "\n",
    "    async for event in graph.astream_events(inputs, version=\"v2\"):\n",
    "        if (event[\"event\"] == \"on_chat_model_stream\"):\n",
    "            # Print the content of the chunk progressively\n",
    "            print(event[\"data\"][\"chunk\"].content, end=\"\", flush=True)\n",
    "        elif (event[\"event\"] == \"on_tool_start\"  ):\n",
    "            print(\"\\n--\")\n",
    "            print(f\"Calling tool: {event['name']} with inputs: {event['data'].get('input')}\")\n",
    "            print(\"--\")"
   ]
  },
  {
   "cell_type": "code",
   "execution_count": 12,
   "id": "d01f6876-6a65-44aa-a68f-f105bd86d529",
   "metadata": {
    "tags": []
   },
   "outputs": [
    {
     "name": "stdout",
     "output_type": "stream",
     "text": [
      "\n",
      "--\n",
      "Calling tool: Searcher with inputs: {'query': 'average cost of vacation to Greece for family of 4 in summer 2023'}\n",
      "--\n",
      "\n",
      "--\n",
      "Calling tool: WebFetcher with inputs: {'url': 'https://www.budgetyourtrip.com/greece'}\n",
      "--\n",
      "\n",
      "--\n",
      "Calling tool: WebFetcher with inputs: {'url': 'https://we3travel.com/what-does-a-trip-to-greece-cost/'}\n",
      "--\n",
      "For a family of four planning a 7-day vacation to Greece during the summer, the estimated budget would include costs for travel, lodging, and food. Here's a breakdown based on average expenses:\n",
      "\n",
      "1. **Travel Costs**: \n",
      "   - Flights from the U.S. to Athens typically cost around USD 1,000 per person during the summer, so for a family of four, this would be approximately USD 4,000[[1]](https://we3travel.com/what-does-a-trip-to-greece-cost/).\n",
      "\n",
      "2. **Accommodation**:\n",
      "   - The average cost for a mid-range hotel in Greece is around USD 181 per night for a double-occupancy room[[2]](https://www.budgetyourtrip.com/greece). For two rooms for seven nights, this would be approximately USD 2,534.\n",
      "\n",
      "3. **Food**:\n",
      "   - Average daily food cost per person is about USD 85[[2]](https://www.budgetyourtrip.com/greece). For a family of four, this totals USD 2,380 for seven days.\n",
      "\n",
      "4. **Local Transportation**:\n",
      "   - Expect to spend about USD 39 per person per day on local transportation[[2]](https://www.budgetyourtrip.com/greece), totaling USD 1,092 for the family for the week.\n",
      "\n",
      "5. **Total Estimated Budget**: \n",
      "   - The total estimated budget for a 7-day vacation for a family of four to Greece in the summer, including travel, lodging, and food, would be approximately USD 10,006.\n",
      "\n",
      "This budget can vary based on your choice of accommodation, dining preferences, and activities. Planning and booking in advance can help manage and possibly reduce costs."
     ]
    }
   ],
   "source": [
    "await stream_graph_updates_async(graph, QUESTION)"
   ]
  },
  {
   "cell_type": "markdown",
   "id": "25d49f6e-73eb-4513-9341-fcad5e5e33e6",
   "metadata": {},
   "source": [
    "#### Without showing the intermedite steps, just the final answer"
   ]
  },
  {
   "cell_type": "code",
   "execution_count": 13,
   "id": "ca910f71-60fb-4758-b4a9-757e37eb421f",
   "metadata": {
    "tags": []
   },
   "outputs": [],
   "source": [
    "QUESTION = \"How much is 50 USD in Euros and is it enough for an average hotel in Madrid?\"\n",
    "\n",
    "try:\n",
    "    response = graph.invoke({\"messages\": [(\"human\", QUESTION)]})\n",
    "except Exception as e:\n",
    "    response = str(e)"
   ]
  },
  {
   "cell_type": "code",
   "execution_count": 14,
   "id": "25a410b2-9950-43f5-8f14-b333bdc24ff2",
   "metadata": {
    "tags": []
   },
   "outputs": [
    {
     "data": {
      "text/markdown": [
       "50 USD is equivalent to approximately 48.21 Euros [[1]](https://www.exchange-rates.org/converter/usd-eur/50).\n",
       "\n",
       "Regarding hotel prices in Madrid, the average cost for a hotel per night is around 89 USD, with prices ranging from 51 USD for budget hotels to 171 USD for luxury hotels [[2]](https://www.budgetyourtrip.com/hotels/spain/madrid-3117735). Therefore, 48.21 Euros (approximately 52 USD) would not be enough for an average hotel stay in Madrid, as it falls short of the average price."
      ],
      "text/plain": [
       "<IPython.core.display.Markdown object>"
      ]
     },
     "metadata": {},
     "output_type": "display_data"
    }
   ],
   "source": [
    "printmd(response[\"messages\"][-1].content)"
   ]
  },
  {
   "cell_type": "markdown",
   "id": "e9ba3e35-8021-4262-8494-d1aee3862f7e",
   "metadata": {},
   "source": [
    "## QnA to specific websites\n",
    "\n",
    "There are several use cases where we want the smart bot to answer questions about a specific company's public website. There are two approaches we can take:\n",
    "\n",
    "1. Create a crawler script that runs regularly, finds every page on the website, and pushes the documents to Azure Cognitive Search.\n",
    "2. Since Bing has likely already indexed the public website, we can utilize Bing search targeted specifically to that site, rather than attempting to index the site ourselves and duplicate the work already done by Bing's crawler.\n",
    "\n",
    "Below are some sample questions related to specific sites. Take a look:"
   ]
  },
  {
   "cell_type": "code",
   "execution_count": 17,
   "id": "e925ee4a-d295-4815-9e8c-bd6999f48892",
   "metadata": {
    "tags": []
   },
   "outputs": [],
   "source": [
    "QUESTION = \"information on how to deal with wasps in homedepot.com\"\n",
    "# QUESTION = \"in target.com, find how what's the price of a Nesspresso coffee machine and of a Keurig coffee machine\"\n",
    "# QUESTION = \"in microsoft.com, find out what is the latests news on quantum computing\"\n"
   ]
  },
  {
   "cell_type": "code",
   "execution_count": 18,
   "id": "1f7c4e6d-03a8-47f8-b859-f7b397981a6d",
   "metadata": {
    "tags": []
   },
   "outputs": [
    {
     "name": "stdout",
     "output_type": "stream",
     "text": [
      "\n",
      "--\n",
      "Calling tool: Searcher with inputs: {'query': 'how to deal with wasps site:homedepot.com'}\n",
      "--\n",
      "\n",
      "--\n",
      "Calling tool: WebFetcher with inputs: {'url': 'https://www.homedepot.com/c/ab/how-to-get-rid-of-wasps/9ba683603be9fa5395fab902235eb1c'}\n",
      "--\n",
      "To deal with wasps, Home Depot provides a comprehensive guide on their website. Here are some key points:\n",
      "\n",
      "1. **Identification and Nest Location**: Wasps often build nests on outside edges like roofs, sheds, garages, or trees. They can also nest indoors in quiet areas. Identifying the nest location is crucial for effective control.\n",
      "\n",
      "2. **Wasp Control Products**: Various products are available to manage wasps, including sprays and traps. Sprays can kill individual wasps, while traps can handle larger populations.\n",
      "\n",
      "3. **Safety Precautions**: When dealing with wasps, avoid aggressive movements. If a wasp lands on you, remain still and gently brush it off. Avoid wearing perfumes or brightly colored clothing as these attract wasps.\n",
      "\n",
      "4. **Nest Removal**: For nests located inside walls or underground, professional help is recommended. Never try to remove a nest by knocking it down or burning it, as this can provoke wasps to attack.\n",
      "\n",
      "5. **Dealing with Stings**: Basic first aid involves washing the sting area, applying ice, and taking antihistamines for swelling. Seek medical attention if symptoms are severe.\n",
      "\n",
      "For more detailed information, you can visit the Home Depot's guide on how to get rid of wasps [here](https://www.homedepot.com/c/ab/how-to-get-rid-of-wasps/9ba683603be9fa5395fab902235eb1c)."
     ]
    }
   ],
   "source": [
    "await stream_graph_updates_async(graph, QUESTION)"
   ]
  },
  {
   "cell_type": "markdown",
   "id": "56cbc405-26e2-471e-9626-2a0df07f5ddc",
   "metadata": {},
   "source": [
    "# Summary"
   ]
  },
  {
   "cell_type": "markdown",
   "id": "7381ea5f-7269-4e1f-8b0c-1e2c04bd84c0",
   "metadata": {},
   "source": [
    "In this notebook, we learned how to create a Copilot clone using a clever prompt with specific search and formatting instructions and a couple of web searching tools.   \n",
    "\n",
    "The outcome is an agent capable of conducting intelligent web searches and performing research on our behalf. This agent provides us with answers to our questions along with appropriate URL citations and links!"
   ]
  },
  {
   "cell_type": "markdown",
   "id": "02073623-91b4-40d6-8eaf-cb6d9c6a7a9a",
   "metadata": {},
   "source": [
    "# NEXT\n",
    "\n",
    "What about if the information needed to answer the human is behind an API?\n",
    "Next Notebook teach us how to do this."
   ]
  },
  {
   "cell_type": "code",
   "execution_count": null,
   "id": "44adf1ce-cb34-41dc-a7bc-ab73d64a5dc3",
   "metadata": {},
   "outputs": [],
   "source": []
  }
 ],
 "metadata": {
  "kernelspec": {
   "display_name": "GPTSearch3 (Python 3.12)",
   "language": "python",
   "name": "gptsearch3"
  },
  "language_info": {
   "codemirror_mode": {
    "name": "ipython",
    "version": 3
   },
   "file_extension": ".py",
   "mimetype": "text/x-python",
   "name": "python",
   "nbconvert_exporter": "python",
   "pygments_lexer": "ipython3",
   "version": "3.12.8"
  }
 },
 "nbformat": 4,
 "nbformat_minor": 5
}
