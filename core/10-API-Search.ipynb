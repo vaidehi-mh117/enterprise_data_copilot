{
 "cells": [
  {
   "cell_type": "markdown",
   "id": "66ab3cc5-aee4-415a-9391-1e5d37ccaf1d",
   "metadata": {},
   "source": [
    "# Skill 5: API Search - Make our bot to talk to any API"
   ]
  },
  {
   "cell_type": "markdown",
   "id": "306fc0a9-4044-441d-9ba7-f54f32e6ea9f",
   "metadata": {},
   "source": [
    "We have observed the remarkable synergy created by combining **OpenAI llms with intelligent agents and detailed prompts**. This powerful combination has consistently delivered impressive results. To further capitalize on this capability, we should aim to integrate it with various systems through API communication. Essentially, we can develop within this notebook what is referred to in OpenAI's ChatGPT as 'GPTs.'\n",
    "\n",
    "Envision a bot that seamlessly integrates with:\n",
    "\n",
    "- **CRM Systems:** Including Dynamics, Salesforce, and HubSpot.\n",
    "- **ERP Systems:** Such as SAP, Dynamics, and Oracle.\n",
    "- **CMS Systems:** Including Adobe, Oracle, and other content management platforms.\n",
    "\n",
    "The objective is to connect our bot with data repositories, minimizing data duplication as much as possible. These systems typically offer APIs, facilitating programmatic data access.\n",
    "\n",
    "In this notebook, we plan to develop an agent capable of querying an API to retrieve information and effectively answer questions.\n",
    "This time we are going to use an open API for currency and digital coins pricing: https://docs.kraken.com/rest/#tag/Market-Data"
   ]
  },
  {
   "cell_type": "code",
   "execution_count": 1,
   "id": "c1fb79a3-4856-4721-988c-112813690a90",
   "metadata": {
    "tags": []
   },
   "outputs": [],
   "source": [
    "import os\n",
    "import json\n",
    "import requests\n",
    "from pydantic import BaseModel \n",
    "\n",
    "from langchain_openai import AzureChatOpenAI\n",
    "from langchain_core.tools import BaseTool, StructuredTool\n",
    "from langchain_community.agent_toolkits.openapi.toolkit import RequestsToolkit\n",
    "from langchain_community.utilities.requests import RequestsWrapper, TextRequestsWrapper\n",
    "\n",
    "from langgraph.prebuilt import create_react_agent\n",
    "\n",
    "from common.utils import num_tokens_from_string, reduce_openapi_spec\n",
    "from common.prompts import APISEARCH_PROMPT_TEXT\n",
    "\n",
    "from IPython.display import Markdown, HTML, display  \n",
    "\n",
    "from dotenv import load_dotenv\n",
    "load_dotenv(\"credentials.env\")\n",
    "\n",
    "def printmd(string):\n",
    "    display(Markdown(string.replace(\"$\",\"USD \")))\n"
   ]
  },
  {
   "cell_type": "code",
   "execution_count": 2,
   "id": "258a6e99-2d4f-4147-b8ee-c64c85296181",
   "metadata": {
    "tags": []
   },
   "outputs": [],
   "source": [
    "# Set the ENV variables that Langchain needs to connect to Azure OpenAI\n",
    "os.environ[\"OPENAI_API_VERSION\"] = os.environ[\"AZURE_OPENAI_API_VERSION\"]"
   ]
  },
  {
   "cell_type": "code",
   "execution_count": 3,
   "id": "9d3daf03-77e2-466e-a255-2f06bee3561b",
   "metadata": {
    "tags": []
   },
   "outputs": [],
   "source": [
    "COMPLETION_TOKENS = 2000\n",
    "\n",
    "# This notebook needs GPT-4-Turbo (context size of 128k tokens)\n",
    "llm = AzureChatOpenAI(deployment_name=os.environ[\"GPT4o_DEPLOYMENT_NAME\"], \n",
    "                      temperature=0.5, max_tokens=COMPLETION_TOKENS, \n",
    "                      streaming=True)"
   ]
  },
  {
   "cell_type": "markdown",
   "id": "9cc03401-a5a9-455b-bf17-07da2005e61f",
   "metadata": {},
   "source": [
    "## The Logic"
   ]
  },
  {
   "cell_type": "markdown",
   "id": "ebe42eda-3e74-4114-bd25-2473593cc1b4",
   "metadata": {},
   "source": [
    "By now, you must infer that the solution for an API Agent has to be something like: give the API specification as part of the system prompt to the LLM , then let a graph agent plan for the right steps to formulate the API calls.<br>\n",
    "\n",
    "Let's do that. But we must first understand the industry standards of Swagger/OpenAPI\n"
   ]
  },
  {
   "cell_type": "markdown",
   "id": "1e8e0b32-a6b5-4b1c-943d-e57b737213fa",
   "metadata": {},
   "source": [
    "## Introduction to OpenAPI (formerly Swagger)"
   ]
  },
  {
   "cell_type": "markdown",
   "id": "003327ac-2851-48ef-8a6b-2d8c2004bb2e",
   "metadata": {},
   "source": [
    "The OpenAPI Specification, previously known as the Swagger Specification, is a specification for a machine-readable interface definition language for describing, producing, consuming and visualizing web services. Previously part of the Swagger framework, it became a separate project in 2016, overseen by the OpenAPI Initiative, an open-source collaboration project of the Linux Foundation.\n",
    "\n",
    "OpenAPI Specification is an API description format for REST APIs. An OpenAPI file allows you to describe your entire API, including: Available endpoints (/users for example) and operations on each endpoint ( GET /users, POST /users), description, contact information, license, terms of use and other information."
   ]
  },
  {
   "cell_type": "markdown",
   "id": "a1902af5-f889-4bcf-85e0-1b601bd2ce47",
   "metadata": {},
   "source": [
    "### Let's get the OpenAPI (Swagger) spec from our desired API that we want to talk to\n",
    "You can also download it from the Kraken website: https://docs.kraken.com/rest/"
   ]
  },
  {
   "cell_type": "markdown",
   "id": "dd3cab16-e71d-4652-ab27-7b0704365454",
   "metadata": {},
   "source": [
    "Let's see how big is this API specification:"
   ]
  },
  {
   "cell_type": "code",
   "execution_count": 4,
   "id": "03e6ab7d-4493-466e-8771-21e75381b986",
   "metadata": {
    "tags": []
   },
   "outputs": [],
   "source": [
    "LOCAL_FILE_PATH = \"./data/openapi_kraken.json\""
   ]
  },
  {
   "cell_type": "code",
   "execution_count": 5,
   "id": "e4c2e7ca-a9ed-446f-b4db-b8d558f7e1d9",
   "metadata": {
    "tags": []
   },
   "outputs": [],
   "source": [
    "# Open and read the JSON file\n",
    "with open(LOCAL_FILE_PATH, 'r') as file:\n",
    "    spec = json.load(file)"
   ]
  },
  {
   "cell_type": "code",
   "execution_count": 6,
   "id": "94503afc-c398-458a-b369-610c5dbe682d",
   "metadata": {
    "tags": []
   },
   "outputs": [],
   "source": [
    "# You can check the function \"reduce_openapi_spec()\" in utils.py\n",
    "reduced_api_spec = reduce_openapi_spec(spec)"
   ]
  },
  {
   "cell_type": "code",
   "execution_count": 7,
   "id": "57d77e9b-6f3f-4ec4-bc01-baac18984937",
   "metadata": {
    "tags": []
   },
   "outputs": [
    {
     "name": "stdout",
     "output_type": "stream",
     "text": [
      "API spec size in tokens: 66625\n",
      "Reduced API spec size in tokens: 57394\n"
     ]
    }
   ],
   "source": [
    "api_tokens = num_tokens_from_string(str(spec))\n",
    "print(\"API spec size in tokens:\",api_tokens)\n",
    "api_tokens = num_tokens_from_string(str(reduced_api_spec))\n",
    "print(\"Reduced API spec size in tokens:\",api_tokens)"
   ]
  },
  {
   "cell_type": "markdown",
   "id": "d8b95356-587d-43ca-982f-500779078482",
   "metadata": {},
   "source": [
    "Sometimes it makes sense to reduce the size of the API Specs by using the `reduce_openapi_spec` function. It's optional."
   ]
  },
  {
   "cell_type": "markdown",
   "id": "cd8c3b3e-959e-4b19-b34d-66de3501b1b1",
   "metadata": {},
   "source": [
    "#### NOTE: As you can see, a large context LLM is needed. `GPT4` or newer models are necessary for this notebook to run succesfully."
   ]
  },
  {
   "cell_type": "markdown",
   "id": "9a945386-39eb-405d-9310-3b67c9af77bb",
   "metadata": {},
   "source": [
    "### Define Tools"
   ]
  },
  {
   "cell_type": "code",
   "execution_count": 8,
   "id": "ef8b7f43-86ac-4c51-84a5-395c1f2c6db6",
   "metadata": {
    "tags": []
   },
   "outputs": [],
   "source": [
    "# Most of APIs require Authorization tokens, so we construct the headers using a lightweight python request wrapper called RequestsWrapper\n",
    "access_token = \"ABCDEFG123456\" \n",
    "headers = {\"Authorization\": f\"Bearer {access_token}\"}\n",
    "requests_wrapper = RequestsWrapper(headers=headers)\n",
    "\n",
    "toolkit = RequestsToolkit(\n",
    "    requests_wrapper=RequestsWrapper(headers=headers),\n",
    "    allow_dangerous_requests=True,\n",
    ")"
   ]
  },
  {
   "cell_type": "code",
   "execution_count": 9,
   "id": "8475a4a3-48b3-476b-b900-49840e21e463",
   "metadata": {
    "tags": []
   },
   "outputs": [
    {
     "data": {
      "text/plain": [
       "[RequestsGetTool(requests_wrapper=TextRequestsWrapper(headers={'Authorization': 'Bearer ABCDEFG123456'}, aiosession=None, auth=None, response_content_type='text', verify=True), allow_dangerous_requests=True),\n",
       " RequestsPostTool(requests_wrapper=TextRequestsWrapper(headers={'Authorization': 'Bearer ABCDEFG123456'}, aiosession=None, auth=None, response_content_type='text', verify=True), allow_dangerous_requests=True),\n",
       " RequestsPatchTool(requests_wrapper=TextRequestsWrapper(headers={'Authorization': 'Bearer ABCDEFG123456'}, aiosession=None, auth=None, response_content_type='text', verify=True), allow_dangerous_requests=True),\n",
       " RequestsPutTool(requests_wrapper=TextRequestsWrapper(headers={'Authorization': 'Bearer ABCDEFG123456'}, aiosession=None, auth=None, response_content_type='text', verify=True), allow_dangerous_requests=True),\n",
       " RequestsDeleteTool(requests_wrapper=TextRequestsWrapper(headers={'Authorization': 'Bearer ABCDEFG123456'}, aiosession=None, auth=None, response_content_type='text', verify=True), allow_dangerous_requests=True)]"
      ]
     },
     "execution_count": 9,
     "metadata": {},
     "output_type": "execute_result"
    }
   ],
   "source": [
    "toolkit.get_tools()"
   ]
  },
  {
   "cell_type": "code",
   "execution_count": 10,
   "id": "2b536301-3835-4ce0-84e2-4012973b12d1",
   "metadata": {
    "tags": []
   },
   "outputs": [],
   "source": [
    "tools = toolkit.get_tools()"
   ]
  },
  {
   "cell_type": "markdown",
   "id": "b0f4d6a2-2678-4e19-b070-b0a8028bde72",
   "metadata": {},
   "source": [
    "### Define Prompt"
   ]
  },
  {
   "cell_type": "code",
   "execution_count": 11,
   "id": "38b3972b-beca-4068-85c0-a7cda0ded894",
   "metadata": {
    "tags": []
   },
   "outputs": [
    {
     "data": {
      "text/markdown": [
       "\n",
       "\n",
       "## Source of Information\n",
       "- You have access to an API to help answer user queries.\n",
       "- Here is documentation on the API: {api_spec}\n",
       "\n",
       "## On how to use the Tools\n",
       "- You are an agent designed to connect to RestFul APIs.\n",
       "- Given API documentation above, use the right tools to connect to the API.\n",
       "- **ALWAYS** before giving the Final Answer, try another method if available. Then reflect on the answers of the two methods you did and ask yourself if it answers correctly the original question. If you are not sure, try another method.\n",
       "- If you are sure of the correct answer, create a beautiful and thorough response using Markdown.\n",
       "- **DO NOT MAKE UP AN ANSWER OR USE Pre-Existing KNOWLEDGE, ONLY USE THE RESULTS OF THE CALCULATIONS YOU HAVE DONE**. \n",
       "- Only use the output of your code to answer the question. \n"
      ],
      "text/plain": [
       "<IPython.core.display.Markdown object>"
      ]
     },
     "metadata": {},
     "output_type": "display_data"
    }
   ],
   "source": [
    "printmd(APISEARCH_PROMPT_TEXT)"
   ]
  },
  {
   "cell_type": "markdown",
   "id": "82cc97fa-5184-4d43-9b36-a66c04f73a3b",
   "metadata": {
    "tags": []
   },
   "source": [
    "### Create Graph"
   ]
  },
  {
   "cell_type": "code",
   "execution_count": 12,
   "id": "97432e39-965f-4eb1-8dfa-55cdfef5e541",
   "metadata": {
    "tags": []
   },
   "outputs": [],
   "source": [
    "graph = create_react_agent(llm, tools, state_modifier=APISEARCH_PROMPT_TEXT.format(api_spec=reduced_api_spec))"
   ]
  },
  {
   "cell_type": "markdown",
   "id": "24fa45b2-dd42-485b-b77b-ca66fb223e4f",
   "metadata": {},
   "source": [
    "### Run the Graph"
   ]
  },
  {
   "cell_type": "code",
   "execution_count": 13,
   "id": "659d4b36-ca54-4505-aab8-8f6534448408",
   "metadata": {
    "tags": []
   },
   "outputs": [],
   "source": [
    "async def stream_graph_updates_async(graph, user_input: str):\n",
    "    inputs = {\"messages\": [(\"human\", user_input)]}\n",
    "\n",
    "    async for event in graph.astream_events(inputs, version=\"v2\"):\n",
    "        if (event[\"event\"] == \"on_chat_model_stream\"):\n",
    "            # Print the content of the chunk progressively\n",
    "            print(event[\"data\"][\"chunk\"].content, end=\"\", flush=True)\n",
    "        elif (event[\"event\"] == \"on_tool_start\"  ):\n",
    "            print(\"\\n--\")\n",
    "            print(f\"Calling tool: {event['name']} with inputs: {event['data'].get('input')}\")\n",
    "            print(\"--\")"
   ]
  },
  {
   "cell_type": "code",
   "execution_count": 14,
   "id": "d020b5de-7ebe-4fb9-9b71-f6c71956149d",
   "metadata": {
    "tags": []
   },
   "outputs": [],
   "source": [
    "QUESTION = \"\"\"\n",
    "Tell me the price of bitcoin against USD , also the latest OHLC values for Ethereum,\n",
    "also tell me the bid and ask for Euro.\n",
    "\"\"\""
   ]
  },
  {
   "cell_type": "code",
   "execution_count": 15,
   "id": "fabda1d0-7050-4871-b155-5be9e24a24ff",
   "metadata": {
    "tags": []
   },
   "outputs": [
    {
     "name": "stdout",
     "output_type": "stream",
     "text": [
      "\n",
      "--\n",
      "Calling tool: requests_get with inputs: {'url': 'https://api.kraken.com/0/public/Ticker?pair=XBTUSD'}\n",
      "--\n",
      "\n",
      "--\n",
      "Calling tool: requests_get with inputs: {'url': 'https://api.kraken.com/0/public/OHLC?pair=ETHUSD'}\n",
      "--\n",
      "\n",
      "--\n",
      "Calling tool: requests_get with inputs: {'url': 'https://api.kraken.com/0/public/Depth?pair=EURUSD'}\n",
      "--\n",
      "Here's the latest information for the requested cryptocurrencies:\n",
      "\n",
      "### Bitcoin (BTC) against USD\n",
      "- **Last Trade Price:** $94,813.90\n",
      "- **Ask Price:** $94,813.90\n",
      "- **Bid Price:** $94,813.80\n",
      "\n",
      "### Ethereum (ETH) Latest OHLC Values\n",
      "Here are the latest OHLC (Open, High, Low, Close) values for Ethereum (ETH) against USD:\n",
      "\n",
      "- **Open:** $3,383.48\n",
      "- **High:** $3,383.48\n",
      "- **Low:** $3,383.00\n",
      "- **Close:** $3,383.01\n",
      "\n",
      "### Euro (EUR) against USD\n",
      "The current order book details for Euro (EUR) against USD are as follows:\n",
      "\n",
      "- **Ask Price:** $1.03713\n",
      "- **Bid Price:** $1.03711\n",
      "\n",
      "If you have any more questions or need further assistance, feel free to ask!"
     ]
    }
   ],
   "source": [
    "await stream_graph_updates_async(graph, QUESTION)"
   ]
  },
  {
   "cell_type": "markdown",
   "id": "73027201-d6e2-4aa0-a480-934c53ae4eb8",
   "metadata": {},
   "source": [
    "**Great!!** we have now an API Agent, capable of reasoning until it can find the answer given an API documentation."
   ]
  },
  {
   "cell_type": "markdown",
   "id": "e9ba3e35-8021-4262-8494-d1aee3862f7e",
   "metadata": {},
   "source": [
    "## Simple APIs\n",
    "\n",
    "What happens if the API is quite basic, meaning it's just a simple endpoint without a Swagger/OpenAPI definition? Let’s consider the following example:\n",
    "\n",
    "[CountdownAPI](https://www.countdownapi.com/) is a streamlined version of the eBay API, available as a paid service. We can test it using their demo query, which does not require any Swagger or OpenAPI specification. In this scenario, our main task is to create a tool that retrieves the results. We then pass these results to an agent for analysis, providing answers to user queries, similar to our approach with the Bing Search agent.\n",
    "\n",
    "In the example below, there is no API specification, but the response from the API is rather lengthy."
   ]
  },
  {
   "cell_type": "code",
   "execution_count": 16,
   "id": "9782fafa-9453-46be-b9d7-b33088f61ac8",
   "metadata": {
    "tags": []
   },
   "outputs": [
    {
     "name": "stdout",
     "output_type": "stream",
     "text": [
      "Token count: 16950 \n",
      "\n",
      "{\"request_info\": {\"success\": true, \"demo\": true}, \"request_parameters\": {\"type\": \"search\", \"ebay_domain\": \"ebay.com\", \"search_term\": \"memory cards\"}, \"request_metadata\": {\"ebay_url\": \"https://www.ebay.com/sch/i.html?_nkw=memory+cards&_sacat=0&_dmd=1&_fcid=1\"}, \"search_results\": [{\"position\": 1, \"title\": \"Gigastone 128GB SD Card, Memory Card for Cameras, Full HD Video, SDXC U1 Class10\", \"epid\": \"313264869008\", \"link\": \"https://www.ebay.com/itm/313264869008\", \"image\": \"https://i.ebayimg.com/images/g/t~AAAOSw9opfjasq/s-l500.jpg\", \"condition\": \"Brand New\", \"seller_info\": {\"name\": \"gigastoneadmin\", \"review_count\": 3183, \"positive_feedback_percent\": 99.1}, \"is_auction\": false, \"buy_it_now\": true, \"free_returns\": true, \"rating\": 5, \"ratings_total\": 1, \"sponsored\": true, \"prices\": [{\"value\": 24.98, \"raw\": \"$24.98\"}], \"price\": {\"value\": 24.98, \"raw\": \"$24.98\"}}, {\"position\": 2, \"title\": \"SanDisk Micro SD Card Ultra 16GB 32GB 64GB 128GB Class 10 TF Wholesale Lot\", \"epid\": \"235845117199\", \"link\": \"https://www.ebay.com/itm/235845117199\", \"image\": \"https://i.ebayimg.com/images/g/mPoAAOSwuIhnRNrw/s-l500.jpg\", \"condition\": \"Brand New\", \"seller_info\": {\"name\": \"memoryhub\", \"review_count\": 100, \"positive_feedback_percent\": 100}, \"is_auction\": false, \"buy_it_now\": true, \"free_returns\": true, \"sponsored\": true, \"prices\": [{\"value\": 4.96, \"raw\": \"$4.96\"}, {\"value\": 198.91, \"raw\": \"$198.91\"}], \"price\": {\"value\": 4.96, \"raw\": \"$4.96\"}}, {\"position\": 3, \"title\": \"SanDisk Micro SD Memory Card 32GB 64GB 128GB 256GB 512GB 1TB - Ultra Extreme Lot\", \"epid\": \"203914554350\", \"link\": \"https://www.ebay.com/itm/203914554350\", \"image\": \"https://i.ebayimg.com/images/g/A7wAAOSwemNjTz~l/s-l140.jpg\", \"condition\": \"Brand New\", \"seller_info\": {\"name\": \"terashack\", \"review_count\": 63856, \"positive_feedback_percent\": 99.9}, \"is_auction\": false, \"buy_it_now\": true, \"free_returns\": true, \"sponsored\": true, \"prices\": [{\"value\": 9.95, \"raw\": \"$9.95\"}, {\"value\": 484.5, \"raw\": \"$484.50\"}], \"price\": {\"value\": 9.95 ...\n"
     ]
    }
   ],
   "source": [
    "# set up the request parameters\n",
    "params = {\n",
    "  'api_key': 'demo',\n",
    "  'type': 'search',\n",
    "  'ebay_domain': 'ebay.com',\n",
    "  'search_term': 'memory cards'\n",
    "}\n",
    "\n",
    "# make the http GET request to Countdown API\n",
    "api_result = requests.get('https://api.countdownapi.com/request', params)\n",
    "\n",
    "num_tokens = num_tokens_from_string(str(api_result.json())) # this is a custom function we created in common/utils.py\n",
    "print(\"Token count:\",num_tokens,\"\\n\")  \n",
    "\n",
    "# print the first 2000 characters of JSON response from Countdown API\n",
    "print(json.dumps(api_result.json())[:2000], \"...\")"
   ]
  },
  {
   "cell_type": "markdown",
   "id": "57cf8aaa-9a16-48ad-9846-bbacec82d52f",
   "metadata": {},
   "source": [
    "So, the answer from this product query (the demo only works with 'memory cards' - you will need to sign up for their trial if you want to try any query with an API key), is about ~17k tokens. When combined with the prompt, we won't have any other option than to use GPT-4 models. "
   ]
  },
  {
   "cell_type": "markdown",
   "id": "a7280427-688a-45c4-bf98-d1d392cdfe9c",
   "metadata": {},
   "source": [
    "### Define a custom tool to call the API endpoint"
   ]
  },
  {
   "cell_type": "code",
   "execution_count": 17,
   "id": "67c51a32-13f5-4802-84cd-ce40b397cb1b",
   "metadata": {
    "tags": []
   },
   "outputs": [],
   "source": [
    "class MySimpleAPISearch(BaseTool):\n",
    "    \"\"\"Tool for simple API calls that doesn't require OpenAPI 3.0 specs\"\"\"\n",
    "    \n",
    "    name:str = \"apisearch\"\n",
    "    description:str = \"useful when the questions includes the term: apisearch.\\n\"\n",
    "\n",
    "    api_key: str\n",
    "    \n",
    "    def _run(self, query: str) -> str:\n",
    "        \n",
    "        params = {\n",
    "          'api_key': self.api_key,\n",
    "          'type': 'search',\n",
    "          'ebay_domain': 'ebay.com',\n",
    "          'search_term': query\n",
    "        }\n",
    "\n",
    "        # make the http GET request to Countdown API\n",
    "        api_result = requests.get('https://api.countdownapi.com/request', params)\n",
    "        \n",
    "        try:\n",
    "            response = json.dumps(api_result.json())\n",
    "        except Exception as e:\n",
    "            response = e\n",
    "        \n",
    "        return response\n",
    "            \n",
    "    async def _arun(self, query: str) -> str:\n",
    "        \"\"\"Use the tool asynchronously.\"\"\"\n",
    "        raise NotImplementedError(\"This Tool does not support async\")"
   ]
  },
  {
   "cell_type": "code",
   "execution_count": 18,
   "id": "c0daa409-a196-4eae-aaac-b4545d0e3280",
   "metadata": {
    "tags": []
   },
   "outputs": [],
   "source": [
    "tools = [MySimpleAPISearch(api_key='demo')]\n",
    "graph = create_react_agent(llm, tools, state_modifier=APISEARCH_PROMPT_TEXT.format(api_spec=\"API provided by the tool\"))"
   ]
  },
  {
   "cell_type": "markdown",
   "id": "c6a0f773-7957-469a-a8bc-911a68ce0b98",
   "metadata": {},
   "source": [
    "This time let's use the .stream() method "
   ]
  },
  {
   "cell_type": "code",
   "execution_count": 19,
   "id": "64d77691-e29a-45b2-a045-da755d9c7d8b",
   "metadata": {
    "tags": []
   },
   "outputs": [],
   "source": [
    "QUESTION = 'what is the price for SanDisk \"memory cards\"? give me the links please'"
   ]
  },
  {
   "cell_type": "code",
   "execution_count": 20,
   "id": "71a1d824-7257-4a6b-8b0c-cd5176136ac7",
   "metadata": {
    "tags": []
   },
   "outputs": [],
   "source": [
    "def print_stream(stream):\n",
    "    for s in stream:\n",
    "        message = s[\"messages\"][-1]\n",
    "        if isinstance(message, tuple):\n",
    "            print(message)\n",
    "        else:\n",
    "            message.pretty_print()"
   ]
  },
  {
   "cell_type": "code",
   "execution_count": 21,
   "id": "64fa79ee-9a50-4ddf-a87e-c0c28615ce4e",
   "metadata": {
    "tags": []
   },
   "outputs": [
    {
     "name": "stdout",
     "output_type": "stream",
     "text": [
      "================================\u001b[1m Human Message \u001b[0m=================================\n",
      "\n",
      "what is the price for SanDisk \"memory cards\"? give me the links please\n",
      "==================================\u001b[1m Ai Message \u001b[0m==================================\n",
      "Tool Calls:\n",
      "  apisearch (call_CraUIkfzWpW65xeQJPx91wVu)\n",
      " Call ID: call_CraUIkfzWpW65xeQJPx91wVu\n",
      "  Args:\n",
      "    query: SanDisk memory cards\n",
      "=================================\u001b[1m Tool Message \u001b[0m=================================\n",
      "Name: apisearch\n",
      "\n",
      "{\"request_info\": {\"success\": true, \"demo\": true}, \"request_parameters\": {\"type\": \"search\", \"ebay_domain\": \"ebay.com\", \"search_term\": \"SanDisk memory cards\"}, \"request_metadata\": {\"ebay_url\": \"https://www.ebay.com/sch/i.html?_nkw=SanDisk+memory+cards&_sacat=0&_dmd=1&_fcid=1\"}, \"search_results\": [{\"position\": 1, \"title\": \"Pack of 10 Genuine SanDisk 16GB Class 4 SD SDHC Flash Memory Card SDSDB-016G lot\", \"epid\": \"405071797164\", \"link\": \"https://www.ebay.com/itm/405071797164\", \"image\": \"https://i.ebayimg.com/images/g/lFMAAOSwjRVnRwBc/s-l500.jpg\", \"condition\": \"Open Box\", \"seller_info\": {\"name\": \"memory561\", \"review_count\": 107314, \"positive_feedback_percent\": 99.8}, \"is_auction\": false, \"buy_it_now\": true, \"free_returns\": true, \"rating\": 5, \"ratings_total\": 588, \"sponsored\": true, \"prices\": [{\"value\": 39.97, \"raw\": \"$39.97\"}], \"price\": {\"value\": 39.97, \"raw\": \"$39.97\"}}, {\"position\": 2, \"title\": \"SanDisk 32GB Extreme C10 V30 UHS-I U3 SD 100MBs SDHC Memory card Pack of 5 Lot\", \"epid\": \"195435460588\", \"link\": \"https://www.ebay.com/itm/195435460588\", \"image\": \"https://i.ebayimg.com/images/g/BOMAAOSwBRVjWTcJ/s-l500.jpg\", \"condition\": \"Brand New\", \"seller_info\": {\"name\": \"firstchoiceonline\", \"review_count\": 56109, \"positive_feedback_percent\": 99.1}, \"is_auction\": false, \"buy_it_now\": true, \"free_returns\": true, \"rating\": 5, \"ratings_total\": 27, \"sponsored\": true, \"prices\": [{\"value\": 42.49, \"raw\": \"$42.49\"}], \"price\": {\"value\": 42.49, \"raw\": \"$42.49\"}}, {\"position\": 3, \"title\": \"SanDisk Extreme PRO 128GB UHS-I U3 SDXC 200MB/s 4K Memory Card\", \"epid\": \"156442619957\", \"link\": \"https://www.ebay.com/itm/156442619957\", \"image\": \"https://i.ebayimg.com/images/g/gJ0AAOSwqTVnAHSF/s-l140.jpg\", \"condition\": \"Brand New\", \"seller_info\": {\"name\": \"dorandbelle\", \"review_count\": 407, \"positive_feedback_percent\": 92.1}, \"is_auction\": false, \"buy_it_now\": false, \"free_returns\": true, \"rating\": 5, \"ratings_total\": 19, \"sponsored\": true, \"best_offer\": true, \"prices\": [{\"value\": 19.95, \"raw\": \"$19.95\"}], \"price\": {\"value\": 19.95, \"raw\": \"$19.95\"}}, {\"position\": 4, \"title\": \"SanDisk 16GB Class 4 SDHC Memory Card - SDSDB-016G-B35\", \"epid\": \"156542390506\", \"link\": \"https://www.ebay.com/itm/156542390506\", \"image\": \"https://i.ebayimg.com/images/g/MDMAAOSwfRlnRv2r/s-l140.jpg\", \"condition\": \"Open Box\", \"seller_info\": {\"name\": \"bytestrading\", \"review_count\": 1508, \"positive_feedback_percent\": 97.9}, \"is_auction\": false, \"buy_it_now\": false, \"free_returns\": false, \"rating\": 5, \"ratings_total\": 588, \"sponsored\": true, \"best_offer\": true, \"prices\": [{\"value\": 5.98, \"raw\": \"$5.98\"}], \"price\": {\"value\": 5.98, \"raw\": \"$5.98\"}}, {\"position\": 5, \"title\": \"SanDisk 32GB Ultra SDHC UHS-I Memory Card Class 10 120 MB/s Full HD Camera\", \"epid\": \"193904175450\", \"link\": \"https://www.ebay.com/itm/193904175450\", \"image\": \"https://i.ebayimg.com/images/g/5dsAAOSwCeRgyfwN/s-l140.jpg\", \"condition\": \"Brand New\", \"seller_info\": {\"name\": \"gmdbrands\", \"review_count\": 15659, \"positive_feedback_percent\": 99}, \"is_auction\": false, \"buy_it_now\": true, \"free_returns\": false, \"rating\": 5, \"ratings_total\": 96, \"sponsored\": true, \"prices\": [{\"value\": 8, \"raw\": \"$8.00\"}], \"price\": {\"value\": 8, \"raw\": \"$8.00\"}}, {\"position\": 6, \"title\": \"LOT OF 11 SanDisk And Other Brand SD cards And Micro SD Card Lot Bundle\", \"epid\": \"375894020646\", \"link\": \"https://www.ebay.com/itm/375894020646\", \"image\": \"https://i.ebayimg.com/images/g/FmEAAOSw-pdnccsi/s-l140.jpg\", \"is_auction\": true, \"bid_count\": 4, \"buy_it_now\": false, \"free_returns\": false, \"sponsored\": false, \"prices\": [{\"value\": 3.25, \"raw\": \"$3.25\"}], \"price\": {\"value\": 3.25, \"raw\": \"$3.25\"}}, {\"position\": 7, \"title\": \"SanDisk Outdoors\\ud83c\\udf33SDHC UHS-I Card 4-Pack 16GB Each Highly Visible On Both Sides\", \"epid\": \"387771957159\", \"link\": \"https://www.ebay.com/itm/387771957159\", \"image\": \"https://i.ebayimg.com/images/g/-KoAAOSw-6hnYJ-n/s-l140.jpg\", \"is_auction\": true, \"bid_count\": 3, \"buy_it_now\": false, \"free_returns\": false, \"sponsored\": false, \"prices\": [{\"value\": 4, \"raw\": \"$4.00\"}], \"price\": {\"value\": 4, \"raw\": \"$4.00\"}}, {\"position\": 8, \"title\": \"SanDisk Extreme PRO 512GB CFast 2.0 Memory Card #SDCFSP-512G-A46D**\", \"epid\": \"126855857431\", \"link\": \"https://www.ebay.com/itm/126855857431\", \"image\": \"https://i.ebayimg.com/images/g/6V4AAOSwhLRncX4P/s-l140.jpg\", \"is_auction\": true, \"bid_count\": 3, \"buy_it_now\": false, \"free_returns\": false, \"sponsored\": false, \"prices\": [{\"value\": 47.5, \"raw\": \"$47.50\"}], \"price\": {\"value\": 47.5, \"raw\": \"$47.50\"}}, {\"position\": 9, \"title\": \"SanDisk SDSDXWT-032G-AW6V2 Outdoors Pro SD 4K UHS-I, U3 Card 32GB 2-Pack\", \"epid\": \"387771956630\", \"link\": \"https://www.ebay.com/itm/387771956630\", \"image\": \"https://i.ebayimg.com/images/g/WF4AAOSwrzhnYJ8s/s-l140.jpg\", \"is_auction\": true, \"bid_count\": 2, \"buy_it_now\": false, \"free_returns\": false, \"sponsored\": false, \"prices\": [{\"value\": 4.25, \"raw\": \"$4.25\"}], \"price\": {\"value\": 4.25, \"raw\": \"$4.25\"}}, {\"position\": 10, \"title\": \"SanDisk 32GB Class 4 SDHC UHS-I Camera Flash Memory SD Card\", \"epid\": \"195214195732\", \"link\": \"https://www.ebay.com/itm/195214195732\", \"image\": \"https://i.ebayimg.com/images/g/dHEAAOSw619iztKH/s-l140.jpg\", \"condition\": \"Brand New\", \"seller_info\": {\"name\": \"firstchoiceonline\", \"review_count\": 56109, \"positive_feedback_percent\": 99.1}, \"is_auction\": false, \"buy_it_now\": true, \"free_returns\": true, \"rating\": 5, \"ratings_total\": 436, \"sponsored\": true, \"prices\": [{\"value\": 7.25, \"raw\": \"$7.25\"}], \"price\": {\"value\": 7.25, \"raw\": \"$7.25\"}}, {\"position\": 11, \"title\": \"SanDisk SD 64GB Ultra SDHC UHS-I / Class 10 Memory Card, Speed Up to 120MB/s\", \"epid\": \"156294481766\", \"link\": \"https://www.ebay.com/itm/156294481766\", \"image\": \"https://i.ebayimg.com/images/g/QngAAOSwPtlmjKia/s-l140.jpg\", \"condition\": \"Open Box\", \"seller_info\": {\"name\": \"bytestrading\", \"review_count\": 1508, \"positive_feedback_percent\": 97.9}, \"is_auction\": false, \"buy_it_now\": true, \"free_returns\": false, \"rating\": 5, \"ratings_total\": 8, \"sponsored\": true, \"prices\": [{\"value\": 7.47, \"raw\": \"$7.47\"}], \"price\": {\"value\": 7.47, \"raw\": \"$7.47\"}}, {\"position\": 12, \"title\": \"Lot of 2 SanDisk 32GB = 64GB SD SDHC Class 4 Camera Flash Memory Card SDSDB-032G\", \"epid\": \"331634660766\", \"link\": \"https://www.ebay.com/itm/331634660766\", \"image\": \"https://i.ebayimg.com/images/g/IRMAAOSw3ydV183w/s-l140.jpg\", \"condition\": \"Brand New\", \"seller_info\": {\"name\": \"allizwell2k10\", \"review_count\": 392170, \"positive_feedback_percent\": 99.4}, \"is_auction\": false, \"buy_it_now\": true, \"free_returns\": true, \"sponsored\": true, \"prices\": [{\"value\": 12.99, \"raw\": \"$12.99\"}], \"price\": {\"value\": 12.99, \"raw\": \"$12.99\"}}, {\"position\": 13, \"title\": \"Sandisk Micro SD Card 128GB 256GB Extreme Pro Ultra Memory Cards lot 170MB/s USA\", \"epid\": \"335700739457\", \"link\": \"https://www.ebay.com/itm/335700739457\", \"image\": \"https://i.ebayimg.com/images/g/gOMAAOSwvY1nSRlt/s-l140.jpg\", \"condition\": \"Brand New\", \"seller_info\": {\"name\": \"zhaoxinspea\", \"review_count\": 698, \"positive_feedback_percent\": 98.9}, \"is_auction\": false, \"buy_it_now\": true, \"free_returns\": true, \"sponsored\": true, \"prices\": [{\"value\": 13.99, \"raw\": \"$13.99\"}, {\"value\": 24.99, \"raw\": \"$24.99\"}], \"price\": {\"value\": 13.99, \"raw\": \"$13.99\"}}, {\"position\": 14, \"title\": \"Sandisk SD Card 16GB 32GB 64GB 128GB Ultra Memory Card Camera Trail Cam Computer\", \"epid\": \"274688396928\", \"link\": \"https://www.ebay.com/itm/274688396928\", \"image\": \"https://i.ebayimg.com/images/g/LegAAOSwNkdisJb3/s-l140.jpg\", \"condition\": \"Brand New\", \"seller_info\": {\"name\": \"memorydiscounters\", \"review_count\": 71667, \"positive_feedback_percent\": 99.8}, \"is_auction\": false, \"buy_it_now\": true, \"free_returns\": true, \"rating\": 5, \"ratings_total\": 10, \"sponsored\": true, \"prices\": [{\"value\": 7.94, \"raw\": \"$7.94\"}, {\"value\": 56.98, \"raw\": \"$56.98\"}], \"price\": {\"value\": 7.94, \"raw\": \"$7.94\"}}, {\"position\": 15, \"title\": \"SanDisk Ultra 128 GB SD SDXC Memory Card SDSDUNR-128G-GN3IN 100mbps\", \"epid\": \"284993211913\", \"link\": \"https://www.ebay.com/itm/284993211913\", \"image\": \"https://i.ebayimg.com/images/g/UYQAAOSw~wdjOHpe/s-l140.jpg\", \"condition\": \"Brand New\", \"seller_info\": {\"name\": \"allizwell2k10\", \"review_count\": 392170, \"positive_feedback_percent\": 99.4}, \"is_auction\": false, \"buy_it_now\": true, \"free_returns\": true, \"rating\": 5, \"ratings_total\": 28, \"sponsored\": true, \"prices\": [{\"value\": 13.5, \"raw\": \"$13.50\"}], \"price\": {\"value\": 13.5, \"raw\": \"$13.50\"}}, {\"position\": 16, \"title\": \"SanDisk Ultra 64GB 80MB/s SDXC SDHC Class 10 533x SD Camera Flash Memory Card\", \"epid\": \"332426273325\", \"link\": \"https://www.ebay.com/itm/332426273325\", \"image\": \"https://i.ebayimg.com/images/g/4EsAAOSwEEBZ8YzQ/s-l140.jpg\", \"condition\": \"Brand New\", \"seller_info\": {\"name\": \"allizwell2k10\", \"review_count\": 392170, \"positive_feedback_percent\": 99.4}, \"is_auction\": false, \"buy_it_now\": true, \"free_returns\": true, \"rating\": 5, \"ratings_total\": 191, \"sponsored\": true, \"prices\": [{\"value\": 10.5, \"raw\": \"$10.50\"}], \"price\": {\"value\": 10.5, \"raw\": \"$10.50\"}}, {\"position\": 17, \"title\": \"SanDisk CF Extreme 64GB 120MB/s CompactFlash Memory Card SDCFXS-64G 64 GB\", \"epid\": \"382233755733\", \"link\": \"https://www.ebay.com/itm/382233755733\", \"image\": \"https://i.ebayimg.com/images/g/6HsAAOSwdQNZxcJC/s-l140.jpg\", \"condition\": \"Pre-Owned\", \"seller_info\": {\"name\": \"memory561\", \"review_count\": 107314, \"positive_feedback_percent\": 99.8}, \"is_auction\": false, \"buy_it_now\": true, \"free_returns\": true, \"sponsored\": true, \"prices\": [{\"value\": 27.99, \"raw\": \"$27.99\"}], \"price\": {\"value\": 27.99, \"raw\": \"$27.99\"}}, {\"position\": 18, \"title\": \"SanDisk 128GB Extreme PRO UHS-II SDXC Memory Card\", \"epid\": \"387783181762\", \"link\": \"https://www.ebay.com/itm/387783181762\", \"image\": \"https://i.ebayimg.com/images/g/p4QAAOSwVPBndG4Z/s-l140.jpg\", \"condition\": \"Brand New\", \"seller_info\": {\"name\": \"uf.rios\", \"review_count\": 114, \"positive_feedback_percent\": 92}, \"is_auction\": false, \"buy_it_now\": false, \"free_returns\": false, \"shipping_cost\": 4.58, \"rating\": 5, \"ratings_total\": 1, \"sponsored\": true, \"best_offer\": true, \"prices\": [{\"value\": 90.99, \"raw\": \"$90.99\"}], \"price\": {\"value\": 90.99, \"raw\": \"$90.99\"}}, {\"position\": 19, \"title\": \"5x SanDisk 64GB Ultra SDHC UHS-I / Class 10 Memory Card, Speed Up to 120MB/s\", \"epid\": \"395527089014\", \"link\": \"https://www.ebay.com/itm/395527089014\", \"image\": \"https://i.ebayimg.com/images/g/HHQAAOSwpqJmkC57/s-l140.jpg\", \"condition\": \"Open Box\", \"seller_info\": {\"name\": \"memory561\", \"review_count\": 107314, \"positive_feedback_percent\": 99.8}, \"is_auction\": false, \"buy_it_now\": true, \"free_returns\": true, \"sponsored\": true, \"prices\": [{\"value\": 29.99, \"raw\": \"$29.99\"}], \"price\": {\"value\": 29.99, \"raw\": \"$29.99\"}}, {\"position\": 20, \"title\": \"SandDisk Extreme Pro SD SDXC UHS-I U3 V30 200MB/s 4K HD Video Camera memory Card\", \"epid\": \"405181132580\", \"link\": \"https://www.ebay.com/itm/405181132580\", \"image\": \"https://i.ebayimg.com/images/g/enMAAOSw4UpmxW78/s-l140.jpg\", \"condition\": \"Brand New\", \"seller_info\": {\"name\": \"ecommasterz\", \"review_count\": 29, \"positive_feedback_percent\": 93.1}, \"is_auction\": false, \"buy_it_now\": true, \"free_returns\": true, \"sponsored\": true, \"prices\": [{\"value\": 59.99, \"raw\": \"$59.99\"}], \"price\": {\"value\": 59.99, \"raw\": \"$59.99\"}}, {\"position\": 21, \"title\": \"SanDisk 32GB Extreme Class10 V30 UHS-I U3 SD card 100MBs Full SD HC Memory card\", \"epid\": \"195214263197\", \"link\": \"https://www.ebay.com/itm/195214263197\", \"image\": \"https://i.ebayimg.com/images/g/BssAAOSwE5tlvAMJ/s-l140.jpg\", \"condition\": \"Brand New\", \"seller_info\": {\"name\": \"gmdbrands\", \"review_count\": 15659, \"positive_feedback_percent\": 99}, \"is_auction\": false, \"buy_it_now\": true, \"free_returns\": false, \"rating\": 5, \"ratings_total\": 27, \"sponsored\": true, \"prices\": [{\"value\": 13.5, \"raw\": \"$13.50\"}], \"price\": {\"value\": 13.5, \"raw\": \"$13.50\"}}, {\"position\": 22, \"title\": \"SanDisk Extreme Pro 256GB Class 10 SDXC Memory Card - SDSDXXY\", \"epid\": \"405302290205\", \"link\": \"https://www.ebay.com/itm/405302290205\", \"image\": \"https://i.ebayimg.com/images/g/MfQAAOSwBB9nF-aH/s-l140.jpg\", \"condition\": \"Brand New\", \"seller_info\": {\"name\": \"evalueexpo\", \"review_count\": 115167, \"positive_feedback_percent\": 99}, \"is_auction\": false, \"buy_it_now\": true, \"free_returns\": true, \"rating\": 5, \"ratings_total\": 5, \"sponsored\": true, \"prices\": [{\"value\": 19.95, \"raw\": \"$19.95\"}], \"price\": {\"value\": 19.95, \"raw\": \"$19.95\"}}, {\"position\": 23, \"title\": \"Sandisk Micro SD Card 128GB 256GB Extreme Pro Ultra Memory Cards lot 170MB/s New\", \"epid\": \"365307080015\", \"link\": \"https://www.ebay.com/itm/365307080015\", \"image\": \"https://i.ebayimg.com/images/g/gm0AAOSwjMtnbOWH/s-l140.jpg\", \"condition\": \"Brand New\", \"seller_info\": {\"name\": \"kerriganhive\", \"review_count\": 534, \"positive_feedback_percent\": 99.4}, \"is_auction\": false, \"buy_it_now\": true, \"free_returns\": true, \"sponsored\": true, \"prices\": [{\"value\": 13.99, \"raw\": \"$13.99\"}, {\"value\": 24.99, \"raw\": \"$24.99\"}], \"price\": {\"value\": 13.99, \"raw\": \"$13.99\"}}, {\"position\": 24, \"title\": \"SanDisk 16GB 32GB 64GB SDHC SDXC Class4 SD Flash Memory Card Camera SDSDB By Lot\", \"epid\": \"196171638575\", \"link\": \"https://www.ebay.com/itm/196171638575\", \"image\": \"https://i.ebayimg.com/images/g/4y8AAOSwTr1llxgC/s-l140.jpg\", \"condition\": \"Brand New\", \"seller_info\": {\"name\": \"firstchoiceonline\", \"review_count\": 56109, \"positive_feedback_percent\": 99.1}, \"is_auction\": false, \"buy_it_now\": true, \"free_returns\": true, \"sponsored\": true, \"prices\": [{\"value\": 2.38, \"raw\": \"$2.38\"}, {\"value\": 85.9, \"raw\": \"$85.90\"}], \"price\": {\"value\": 2.38, \"raw\": \"$2.38\"}}, {\"position\": 25, \"title\": \"Sandisk 4Gb Memory Stick Pro Duo Magic Gate Memory card - Black\", \"epid\": \"266663164270\", \"link\": \"https://www.ebay.com/itm/266663164270\", \"image\": \"https://i.ebayimg.com/images/g/atwAAOSwFgVlxPhc/s-l140.jpg\", \"condition\": \"Pre-Owned\", \"seller_info\": {\"name\": \"mariomansion\", \"review_count\": 23115, \"positive_feedback_percent\": 96.6}, \"is_auction\": false, \"buy_it_now\": true, \"free_returns\": false, \"sponsored\": true, \"prices\": [{\"value\": 9.95, \"raw\": \"$9.95\"}], \"price\": {\"value\": 9.95, \"raw\": \"$9.95\"}}, {\"position\": 26, \"title\": \"SanDisk Micro SD 32GB 16GB 8GB SD HC TF Memory Card Class 4 C4 FAST SHIPPING\", \"epid\": \"322726259110\", \"link\": \"https://www.ebay.com/itm/322726259110\", \"image\": \"https://i.ebayimg.com/images/g/ybcAAOSwxnFieR15/s-l140.jpg\", \"condition\": \"Brand New\", \"seller_info\": {\"name\": \"memorydiscounters\", \"review_count\": 71667, \"positive_feedback_percent\": 99.8}, \"is_auction\": false, \"buy_it_now\": true, \"free_returns\": true, \"sponsored\": true, \"prices\": [{\"value\": 6.93, \"raw\": \"$6.93\"}, {\"value\": 43.48, \"raw\": \"$43.48\"}], \"price\": {\"value\": 6.93, \"raw\": \"$6.93\"}}, {\"position\": 27, \"title\": \"SanDisk High Endurance & Max Endurance Micro SD Memory Cards 64GB 128GB 256GB\", \"epid\": \"274561375765\", \"link\": \"https://www.ebay.com/itm/274561375765\", \"image\": \"https://i.ebayimg.com/images/g/K7IAAOSw~n1ieR0K/s-l140.jpg\", \"condition\": \"Brand New\", \"seller_info\": {\"name\": \"memorydiscounters\", \"review_count\": 71667, \"positive_feedback_percent\": 99.8}, \"is_auction\": false, \"buy_it_now\": true, \"free_returns\": true, \"rating\": 5, \"ratings_total\": 22, \"sponsored\": true, \"prices\": [{\"value\": 9.98, \"raw\": \"$9.98\"}, {\"value\": 208.13, \"raw\": \"$208.13\"}], \"price\": {\"value\": 9.98, \"raw\": \"$9.98\"}}, {\"position\": 28, \"title\": \"Lot of 25 Mixed 128GB MICRO SD SDHC Memory Cards Sandisk Kingston Toshiba!\", \"epid\": \"286239680244\", \"link\": \"https://www.ebay.com/itm/286239680244\", \"image\": \"https://i.ebayimg.com/images/g/LGQAAOSwHnlndBuS/s-l140.jpg\", \"condition\": \"Pre-Owned\", \"seller_info\": {\"name\": \"wirelessalliance\", \"review_count\": 17607, \"positive_feedback_percent\": 99.1}, \"is_auction\": false, \"buy_it_now\": false, \"free_returns\": false, \"sponsored\": true, \"best_offer\": true, \"prices\": [{\"value\": 100, \"raw\": \"$100.00\"}], \"price\": {\"value\": 100, \"raw\": \"$100.00\"}}, {\"position\": 29, \"title\": \"New SanDisk 16GB SDHC Class 4 SD Flash Memory Card Camera 16 G GB SDSDB-016G-B35\", \"epid\": \"281211412556\", \"link\": \"https://www.ebay.com/itm/281211412556\", \"image\": \"https://i.ebayimg.com/images/g/Gl8AAOxydB1SjYFN/s-l140.jpg\", \"condition\": \"Brand New\", \"seller_info\": {\"name\": \"allizwell2k10\", \"review_count\": 392170, \"positive_feedback_percent\": 99.4}, \"is_auction\": false, \"buy_it_now\": true, \"free_returns\": true, \"rating\": 5, \"ratings_total\": 588, \"sponsored\": true, \"prices\": [{\"value\": 7.99, \"raw\": \"$7.99\"}], \"price\": {\"value\": 7.99, \"raw\": \"$7.99\"}}, {\"position\": 30, \"title\": \"Sandisk Ultra SD Memory Card for Canon Digital Camera EOS Rebel T7 Rebel T6 77D\", \"epid\": \"275735980418\", \"link\": \"https://www.ebay.com/itm/275735980418\", \"image\": \"https://i.ebayimg.com/images/g/O-kAAOSwmdpkCjF8/s-l140.jpg\", \"condition\": \"Brand New\", \"seller_info\": {\"name\": \"memorydiscounters\", \"review_count\": 71667, \"positive_feedback_percent\": 99.8}, \"is_auction\": false, \"buy_it_now\": true, \"free_returns\": true, \"sponsored\": true, \"prices\": [{\"value\": 8.19, \"raw\": \"$8.19\"}, {\"value\": 130.68, \"raw\": \"$130.68\"}], \"price\": {\"value\": 8.19, \"raw\": \"$8.19\"}}, {\"position\": 31, \"title\": \"Sandisk Extreme MicroSD Memory Card works with GoPro Max Hero 7/8/9/10/11/12\", \"epid\": \"322771634890\", \"link\": \"https://www.ebay.com/itm/322771634890\", \"image\": \"https://i.ebayimg.com/images/g/cmcAAOSwDFVieRvK/s-l140.jpg\", \"condition\": \"Brand New\", \"seller_info\": {\"name\": \"memorydiscounters\", \"review_count\": 71667, \"positive_feedback_percent\": 99.8}, \"is_auction\": false, \"buy_it_now\": true, \"free_returns\": true, \"sponsored\": true, \"prices\": [{\"value\": 10.98, \"raw\": \"$10.98\"}, {\"value\": 121.68, \"raw\": \"$121.68\"}], \"price\": {\"value\": 10.98, \"raw\": \"$10.98\"}}, {\"position\": 32, \"title\": \"SanDisk ExtremePro 64GB CF memory card SDCFXPS-064G G Extreme Pro 64 GB 160MB/s\", \"epid\": \"404856030762\", \"link\": \"https://www.ebay.com/itm/404856030762\", \"image\": \"https://i.ebayimg.com/images/g/Om4AAOSwHnFVpn1v/s-l140.jpg\", \"condition\": \"Pre-Owned\", \"seller_info\": {\"name\": \"memory561\", \"review_count\": 107314, \"positive_feedback_percent\": 99.8}, \"is_auction\": false, \"buy_it_now\": true, \"free_returns\": true, \"rating\": 5, \"ratings_total\": 21, \"sponsored\": true, \"prices\": [{\"value\": 29.99, \"raw\": \"$29.99\"}], \"price\": {\"value\": 29.99, \"raw\": \"$29.99\"}}, {\"position\": 33, \"title\": \"SanDisk 128GB Extreme PRO SDXC UHS-I Memory Card - C10, U3, V30, 4K UHD, SD Card\", \"epid\": \"176722377659\", \"link\": \"https://www.ebay.com/itm/176722377659\", \"image\": \"https://i.ebayimg.com/images/g/3VsAAOSwOjlnUxr9/s-l140.jpg\", \"condition\": \"Brand New\", \"seller_info\": {\"name\": \"5thousands\", \"review_count\": 829, \"positive_feedback_percent\": 97.9}, \"is_auction\": false, \"buy_it_now\": true, \"free_returns\": true, \"rating\": 5, \"ratings_total\": 19, \"sponsored\": true, \"prices\": [{\"value\": 20.9, \"raw\": \"$20.90\"}], \"price\": {\"value\": 20.9, \"raw\": \"$20.90\"}}, {\"position\": 34, \"title\": \"128GB Micro SD Card 100% Original SanDisk Ships Fast From USA\", \"epid\": \"326384736288\", \"link\": \"https://www.ebay.com/itm/326384736288\", \"image\": \"https://i.ebayimg.com/images/g/eU4AAOSwkq1mWEDJ/s-l140.jpg\", \"condition\": \"Brand New\", \"seller_info\": {\"name\": \"cvetasti\", \"review_count\": 92, \"positive_feedback_percent\": 100}, \"is_auction\": false, \"buy_it_now\": true, \"free_returns\": false, \"sponsored\": true, \"prices\": [{\"value\": 15.99, \"raw\": \"$15.99\"}, {\"value\": 28.99, \"raw\": \"$28.99\"}], \"price\": {\"value\": 15.99, \"raw\": \"$15.99\"}}, {\"position\": 35, \"title\": \"SanDisk EXTREME PRO 256GB 512GB 1TB SD SDXC Camera Card\", \"epid\": \"365018899594\", \"link\": \"https://www.ebay.com/itm/365018899594\", \"image\": \"https://i.ebayimg.com/images/g/y4YAAOSwPthmmcNN/s-l140.jpg\", \"condition\": \"Brand New\", \"seller_info\": {\"name\": \"sellularityco\", \"review_count\": 93, \"positive_feedback_percent\": 93.3}, \"is_auction\": false, \"buy_it_now\": true, \"free_returns\": true, \"sponsored\": true, \"prices\": [{\"value\": 29.99, \"raw\": \"$29.99\"}, {\"value\": 64.99, \"raw\": \"$64.99\"}], \"price\": {\"value\": 29.99, \"raw\": \"$29.99\"}}, {\"position\": 36, \"title\": \"SanDisk  Extreme PRO 256GB SD SDXC Card 200MB/s Class 10 UHS-1 U3 4K Memory\", \"epid\": \"156442637807\", \"link\": \"https://www.ebay.com/itm/156442637807\", \"image\": \"https://i.ebayimg.com/images/g/B3sAAOSwFXlnAKfD/s-l140.jpg\", \"condition\": \"Brand New\", \"seller_info\": {\"name\": \"dorandbelle\", \"review_count\": 407, \"positive_feedback_percent\": 92.1}, \"is_auction\": false, \"buy_it_now\": false, \"free_returns\": true, \"rating\": 5, \"ratings_total\": 7, \"sponsored\": true, \"best_offer\": true, \"prices\": [{\"value\": 29.95, \"raw\": \"$29.95\"}], \"price\": {\"value\": 29.95, \"raw\": \"$29.95\"}}, {\"position\": 37, \"title\": \"SanDisk SD Cards 16GB 32GB 64GB SDHC SDXC Extreme Pro Ultra Memory Cards lot\", \"epid\": \"226364353862\", \"link\": \"https://www.ebay.com/itm/226364353862\", \"image\": \"https://i.ebayimg.com/images/g/NikAAOSwOexm71-v/s-l140.jpg\", \"condition\": \"Brand New\", \"seller_info\": {\"name\": \"sd_tech_4you\", \"review_count\": 83, \"positive_feedback_percent\": 98.8}, \"is_auction\": false, \"buy_it_now\": true, \"free_returns\": false, \"rating\": 5, \"ratings_total\": 436, \"sponsored\": true, \"prices\": [{\"value\": 7.79, \"raw\": \"$7.79\"}, {\"value\": 12.5, \"raw\": \"$12.50\"}], \"price\": {\"value\": 7.79, \"raw\": \"$7.79\"}}, {\"position\": 38, \"title\": \"Sandisk EXTREME 64GB microSDXC A2 C10 U3 UHS-I V30 160MB/s MicroSD Memory Card\", \"epid\": \"156484164123\", \"link\": \"https://www.ebay.com/itm/156484164123\", \"image\": \"https://i.ebayimg.com/images/g/QfkAAOSwSPRkGJRY/s-l140.jpg\", \"condition\": \"Brand New\", \"seller_info\": {\"name\": \"onlyonedeal\", \"review_count\": 27903, \"positive_feedback_percent\": 98}, \"is_auction\": false, \"buy_it_now\": true, \"free_returns\": true, \"rating\": 5, \"ratings_total\": 7, \"sponsored\": true, \"prices\": [{\"value\": 8.95, \"raw\": \"$8.95\"}], \"price\": {\"value\": 8.95, \"raw\": \"$8.95\"}}, {\"position\": 39, \"title\": \"SanDisk 128GB ImageMate SDXC UHS-1 Memory Card (SDSDUN4-128G-AW6KN) - New!!!\", \"epid\": \"196767459392\", \"link\": \"https://www.ebay.com/itm/196767459392\", \"image\": \"https://i.ebayimg.com/images/g/ELoAAOSwzFdnIo3a/s-l140.jpg\", \"condition\": \"Brand New\", \"seller_info\": {\"name\": \"toristreasures_14\", \"review_count\": 4404, \"positive_feedback_percent\": 98.5}, \"is_auction\": false, \"buy_it_now\": true, \"free_returns\": false, \"rating\": 5, \"ratings_total\": 5, \"sponsored\": true, \"prices\": [{\"value\": 9.89, \"raw\": \"$9.89\"}], \"price\": {\"value\": 9.89, \"raw\": \"$9.89\"}}, {\"position\": 40, \"title\": \"SanDisk SD Flash Memory Card Camera SDHC SDXC 16GB 32GB 64GB Class4 SDSDB By Lot\", \"epid\": \"196196935542\", \"link\": \"https://www.ebay.com/itm/196196935542\", \"image\": \"https://i.ebayimg.com/images/g/RFIAAOSwG8xlqSYX/s-l140.jpg\", \"condition\": \"Brand New\", \"seller_info\": {\"name\": \"gmdbrands\", \"review_count\": 15659, \"positive_feedback_percent\": 99}, \"is_auction\": false, \"buy_it_now\": true, \"free_returns\": false, \"sponsored\": true, \"prices\": [{\"value\": 7.95, \"raw\": \"$7.95\"}, {\"value\": 109.05, \"raw\": \"$109.05\"}], \"price\": {\"value\": 7.95, \"raw\": \"$7.95\"}}, {\"position\": 41, \"title\": \"New SanDisk 32GB SD SDHC Class 4 Camera Flash Memory Card 32 G SDSDB-032G\", \"epid\": \"281462950758\", \"link\": \"https://www.ebay.com/itm/281462950758\", \"image\": \"https://i.ebayimg.com/images/g/en4AAOSwT6pV1Rrm/s-l140.jpg\", \"condition\": \"Brand New\", \"seller_info\": {\"name\": \"allizwell2k10\", \"review_count\": 392170, \"positive_feedback_percent\": 99.4}, \"is_auction\": false, \"buy_it_now\": true, \"free_returns\": true, \"rating\": 5, \"ratings_total\": 436, \"sponsored\": true, \"prices\": [{\"value\": 8.25, \"raw\": \"$8.25\"}], \"price\": {\"value\": 8.25, \"raw\": \"$8.25\"}}, {\"position\": 42, \"title\": \"Sandisk SD Cards 16GB 32GB 64GB 128GB 256GB Extreme Pro Ultra Memory Cards lot\", \"epid\": \"324078167020\", \"link\": \"https://www.ebay.com/itm/324078167020\", \"image\": \"https://i.ebayimg.com/images/g/PasAAOSwHVJi4Akg/s-l140.jpg\", \"condition\": \"Brand New\", \"seller_info\": {\"name\": \"memorydiscounters\", \"review_count\": 71667, \"positive_feedback_percent\": 99.8}, \"is_auction\": false, \"buy_it_now\": true, \"free_returns\": true, \"sponsored\": true, \"prices\": [{\"value\": 7.24, \"raw\": \"$7.24\"}, {\"value\": 173.04, \"raw\": \"$173.04\"}], \"price\": {\"value\": 7.24, \"raw\": \"$7.24\"}}, {\"position\": 43, \"title\": \"SanDisk Extreme PLUS 128GB microSDXC UHS-I/U3 Card with Adapter\", \"epid\": \"387251615855\", \"link\": \"https://www.ebay.com/itm/387251615855\", \"image\": \"https://i.ebayimg.com/images/g/IeQAAOSwEXVmqZ3n/s-l140.jpg\", \"condition\": \"Brand New\", \"seller_info\": {\"name\": \"j.strickly\", \"review_count\": 114, \"positive_feedback_percent\": 98.3}, \"is_auction\": false, \"buy_it_now\": false, \"free_returns\": false, \"shipping_cost\": 4.26, \"rating\": 5, \"ratings_total\": 3, \"sponsored\": true, \"best_offer\": true, \"prices\": [{\"value\": 14.99, \"raw\": \"$14.99\"}], \"price\": {\"value\": 14.99, \"raw\": \"$14.99\"}}, {\"position\": 44, \"title\": \"2 X SanDisk Ultra Plus 64GB SDXC V10 150MB/s Class 10 Memory Cards NEW\", \"epid\": \"276669050773\", \"link\": \"https://www.ebay.com/itm/276669050773\", \"image\": \"https://i.ebayimg.com/images/g/HIUAAOSwydpm~uq6/s-l140.jpg\", \"condition\": \"Brand New\", \"seller_info\": {\"name\": \"optimal_deals\", \"review_count\": 45858, \"positive_feedback_percent\": 99.9}, \"is_auction\": false, \"buy_it_now\": false, \"free_returns\": true, \"sponsored\": true, \"best_offer\": true, \"prices\": [{\"value\": 21.59, \"raw\": \"$21.59\"}], \"price\": {\"value\": 21.59, \"raw\": \"$21.59\"}}, {\"position\": 45, \"title\": \"2 PACK SanDisk Ultra 16 GB (= 32GB ) SDHC SD Class 10 40MB/S 266X Card UHS-I HD\", \"epid\": \"330875921014\", \"link\": \"https://www.ebay.com/itm/330875921014\", \"image\": \"https://i.ebayimg.com/images/g/nm4AAOSwrklVC5E1/s-l140.jpg\", \"condition\": \"Brand New\", \"seller_info\": {\"name\": \"allizwell2k10\", \"review_count\": 392170, \"positive_feedback_percent\": 99.4}, \"is_auction\": false, \"buy_it_now\": true, \"free_returns\": true, \"sponsored\": true, \"prices\": [{\"value\": 11.95, \"raw\": \"$11.95\"}], \"price\": {\"value\": 11.95, \"raw\": \"$11.95\"}}, {\"position\": 46, \"title\": \"SanDisk 8GB Memory Stick Pro Duo Magic Gate Memory card - Black\", \"epid\": \"255569466003\", \"link\": \"https://www.ebay.com/itm/255569466003\", \"image\": \"https://i.ebayimg.com/images/g/ZdIAAOSwe8Rijqb5/s-l140.jpg\", \"condition\": \"Pre-Owned\", \"seller_info\": {\"name\": \"mariomansion\", \"review_count\": 23115, \"positive_feedback_percent\": 96.6}, \"is_auction\": false, \"buy_it_now\": true, \"free_returns\": false, \"sponsored\": true, \"prices\": [{\"value\": 13.95, \"raw\": \"$13.95\"}], \"price\": {\"value\": 13.95, \"raw\": \"$13.95\"}}, {\"position\": 47, \"title\": \"5 x SanDisk Ultra 16GB SDHC SDXC SD Class 10 Flash Memory Card Camera + Cases\", \"epid\": \"284987092906\", \"link\": \"https://www.ebay.com/itm/284987092906\", \"image\": \"https://i.ebayimg.com/images/g/CJoAAOSwbZBbwDGf/s-l140.jpg\", \"condition\": \"Brand New\", \"seller_info\": {\"name\": \"allizwell2k10\", \"review_count\": 392170, \"positive_feedback_percent\": 99.4}, \"is_auction\": false, \"buy_it_now\": true, \"free_returns\": true, \"rating\": 5, \"ratings_total\": 13, \"sponsored\": true, \"prices\": [{\"value\": 28.99, \"raw\": \"$28.99\"}], \"price\": {\"value\": 28.99, \"raw\": \"$28.99\"}}, {\"position\": 48, \"title\": \"32GB Sandisk Ultra SD Memory cards 10 pack for Camera / Trail Camera / Computers\", \"epid\": \"274918776662\", \"link\": \"https://www.ebay.com/itm/274918776662\", \"image\": \"https://i.ebayimg.com/images/g/USsAAOSw-DZixfeU/s-l140.jpg\", \"condition\": \"Brand New\", \"seller_info\": {\"name\": \"memorydiscounters\", \"review_count\": 71667, \"positive_feedback_percent\": 99.8}, \"is_auction\": false, \"buy_it_now\": true, \"free_returns\": true, \"rating\": 5, \"ratings_total\": 6, \"sponsored\": true, \"prices\": [{\"value\": 51.64, \"raw\": \"$51.64\"}], \"price\": {\"value\": 51.64, \"raw\": \"$51.64\"}}, {\"position\": 49, \"title\": \"SanDisk 256GB Micro SD SDXC MicroSD TF Class 10 256 GB Extreme PRO 200MB/s\", \"epid\": \"284979868801\", \"link\": \"https://www.ebay.com/itm/284979868801\", \"image\": \"https://i.ebayimg.com/images/g/FPMAAOSwvyFjLUOQ/s-l140.jpg\", \"condition\": \"Brand New\", \"seller_info\": {\"name\": \"allizwell2k10\", \"review_count\": 392170, \"positive_feedback_percent\": 99.4}, \"is_auction\": false, \"buy_it_now\": true, \"free_returns\": true, \"rating\": 5, \"ratings_total\": 11, \"sponsored\": true, \"prices\": [{\"value\": 28.99, \"raw\": \"$28.99\"}], \"price\": {\"value\": 28.99, \"raw\": \"$28.99\"}}, {\"position\": 50, \"title\": \"SanDisk 1GB SD Camera Memory Card\", \"epid\": \"404360535214\", \"link\": \"https://www.ebay.com/itm/404360535214\", \"image\": \"https://i.ebayimg.com/images/g/xsQAAOSwkgVk0ubI/s-l140.jpg\", \"condition\": \"Pre-Owned\", \"seller_info\": {\"name\": \"rising-sun-photography\", \"review_count\": 38182, \"positive_feedback_percent\": 100}, \"is_auction\": false, \"buy_it_now\": true, \"free_returns\": true, \"sponsored\": true, \"prices\": [{\"value\": 10.99, \"raw\": \"$10.99\"}], \"price\": {\"value\": 10.99, \"raw\": \"$10.99\"}}, {\"position\": 51, \"title\": \"SanDisk 128GB Micro SD SDXC MicroSD TF Class 10 128 GB Extreme PRO 200MB/s\", \"epid\": \"334572077116\", \"link\": \"https://www.ebay.com/itm/334572077116\", \"image\": \"https://i.ebayimg.com/images/g/QiQAAOSwistjLUIB/s-l140.jpg\", \"condition\": \"Brand New\", \"seller_info\": {\"name\": \"allizwell2k10\", \"review_count\": 392170, \"positive_feedback_percent\": 99.4}, \"is_auction\": false, \"buy_it_now\": true, \"free_returns\": true, \"rating\": 5, \"ratings_total\": 32, \"sponsored\": true, \"prices\": [{\"value\": 18.5, \"raw\": \"$18.50\"}], \"price\": {\"value\": 18.5, \"raw\": \"$18.50\"}}, {\"position\": 52, \"title\": \"Lot of 25 Mixed 32GB MICRO SD SDHC Memory Cards Sandisk Kingston Toshiba 32 GB\", \"epid\": \"286241345146\", \"link\": \"https://www.ebay.com/itm/286241345146\", \"image\": \"https://i.ebayimg.com/images/g/vw0AAOSwFHZnRL63/s-l140.jpg\", \"condition\": \"Pre-Owned\", \"seller_info\": {\"name\": \"wirelessalliance\", \"review_count\": 17607, \"positive_feedback_percent\": 99.1}, \"is_auction\": false, \"buy_it_now\": false, \"free_returns\": false, \"sponsored\": true, \"best_offer\": true, \"prices\": [{\"value\": 50, \"raw\": \"$50.00\"}], \"price\": {\"value\": 50, \"raw\": \"$50.00\"}}, {\"position\": 53, \"title\": \"SanDisk Industrial 16GB Micro SD Memory Card Class 10 UHS-I MicroSDHC 5 QTY\", \"epid\": \"304514119603\", \"link\": \"https://www.ebay.com/itm/304514119603\", \"image\": \"https://i.ebayimg.com/images/g/E3YAAOSwa-JimqXK/s-l140.jpg\", \"condition\": \"Brand New\", \"seller_info\": {\"name\": \"cctv.net_clearance\", \"review_count\": 601, \"positive_feedback_percent\": 99.1}, \"is_auction\": false, \"buy_it_now\": false, \"free_returns\": false, \"sponsored\": true, \"best_offer\": true, \"prices\": [{\"value\": 24.99, \"raw\": \"$24.99\"}], \"price\": {\"value\": 24.99, \"raw\": \"$24.99\"}}, {\"position\": 54, \"title\": \"SanDisk - Extreme PLUS 128GB MicroSDXC UHS-I Memory Card\", \"epid\": \"204087112711\", \"link\": \"https://www.ebay.com/itm/204087112711\", \"image\": \"https://i.ebayimg.com/images/g/dUAAAOSwNRNm6uwA/s-l140.jpg\", \"condition\": \"Brand New\", \"seller_info\": {\"name\": \"best_buy\", \"review_count\": 855946, \"positive_feedback_percent\": 95.2}, \"is_auction\": false, \"buy_it_now\": true, \"free_returns\": false, \"sponsored\": true}, {\"position\": 55, \"title\": \"NEW Sandisk Micro SD Card 128GB 256GB Extreme Pro Ultra Memory Cards lot 170MB/s\", \"epid\": \"176726825968\", \"link\": \"https://www.ebay.com/itm/176726825968\", \"image\": \"https://i.ebayimg.com/images/g/N6sAAOSwUZ5nVoO4/s-l140.jpg\", \"condition\": \"Brand New\", \"seller_info\": {\"name\": \"kassadinblades\", \"review_count\": 259, \"positive_feedback_percent\": 95.7}, \"is_auction\": false, \"buy_it_now\": true, \"free_returns\": true, \"sponsored\": true, \"prices\": [{\"value\": 13.99, \"raw\": \"$13.99\"}, {\"value\": 24.99, \"raw\": \"$24.99\"}], \"price\": {\"value\": 13.99, \"raw\": \"$13.99\"}}, {\"position\": 56, \"title\": \"SanDisk Extreme PRO 64GB UHS-I U3 SDXC 200MB/s 4K UHD Video Memory Card SDSDXXU\", \"epid\": \"334572070578\", \"link\": \"https://www.ebay.com/itm/334572070578\", \"image\": \"https://i.ebayimg.com/images/g/wcwAAOSwqKpjLbDE/s-l140.jpg\", \"condition\": \"Brand New\", \"seller_info\": {\"name\": \"allizwell2k10\", \"review_count\": 392170, \"positive_feedback_percent\": 99.4}, \"is_auction\": false, \"buy_it_now\": true, \"free_returns\": true, \"rating\": 5, \"ratings_total\": 34, \"sponsored\": true, \"prices\": [{\"value\": 14.99, \"raw\": \"$14.99\"}], \"price\": {\"value\": 14.99, \"raw\": \"$14.99\"}}, {\"position\": 57, \"title\": \"SanDisk 256GB Extreme Pro Micro SD MicroSDXC UHS-I U3 A2 Memory Card W/Adapter\", \"epid\": \"316080529214\", \"link\": \"https://www.ebay.com/itm/316080529214\", \"image\": \"https://i.ebayimg.com/images/g/7JMAAOSwkDtncaDF/s-l140.jpg\", \"condition\": \"Brand New\", \"seller_info\": {\"name\": \"suzanng-0\", \"review_count\": 148, \"positive_feedback_percent\": 92.8}, \"is_auction\": false, \"buy_it_now\": true, \"free_returns\": true, \"sponsored\": true, \"prices\": [{\"value\": 23.39, \"raw\": \"$23.39\"}], \"price\": {\"value\": 23.39, \"raw\": \"$23.39\"}}, {\"position\": 58, \"title\": \"SanDisk Ultra 16GB 32GB 64GB microSDXC microSDHC MicroSD UHS-I Flash Memory Card\", \"epid\": \"391943458522\", \"link\": \"https://www.ebay.com/itm/391943458522\", \"image\": \"https://i.ebayimg.com/images/g/TlEAAOSwFb5aLiPe/s-l140.jpg\", \"condition\": \"Brand New\", \"seller_info\": {\"name\": \"dz-tech\", \"review_count\": 1037, \"positive_feedback_percent\": 98.7}, \"is_auction\": false, \"buy_it_now\": true, \"free_returns\": true, \"rating\": 5, \"ratings_total\": 41, \"sponsored\": true, \"prices\": [{\"value\": 6.99, \"raw\": \"$6.99\"}], \"price\": {\"value\": 6.99, \"raw\": \"$6.99\"}}, {\"position\": 59, \"title\": \"32GB Sandisk SD Memory cards  Digital Cameras/Trail Camera/Computers (10 pack)\", \"epid\": \"274475563470\", \"link\": \"https://www.ebay.com/itm/274475563470\", \"image\": \"https://i.ebayimg.com/images/g/32EAAOSwYF5jFhwV/s-l140.jpg\", \"condition\": \"Brand New\", \"seller_info\": {\"name\": \"memorydiscounters\", \"review_count\": 71667, \"positive_feedback_percent\": 99.8}, \"is_auction\": false, \"buy_it_now\": true, \"free_returns\": true, \"sponsored\": true, \"prices\": [{\"value\": 51.37, \"raw\": \"$51.37\"}], \"price\": {\"value\": 51.37, \"raw\": \"$51.37\"}}, {\"position\": 60, \"title\": \"Sandisk SDSQUAR-064G-AW6KF 64GB Imagemate Microsdxc Uhs-1 Memory Card With\", \"epid\": \"115935197578\", \"link\": \"https://www.ebay.com/itm/115935197578\", \"image\": \"https://i.ebayimg.com/images/g/05YAAOSwt1BlIAXb/s-l140.jpg\", \"condition\": \"Pre-Owned\", \"seller_info\": {\"name\": \"vipoutlet\", \"review_count\": 491529, \"positive_feedback_percent\": 96.9}, \"is_auction\": false, \"buy_it_now\": true, \"free_returns\": true, \"sponsored\": true, \"prices\": [{\"value\": 6, \"raw\": \"$6.00\"}], \"price\": {\"value\": 6, \"raw\": \"$6.00\"}}, {\"position\": 61, \"title\": \"Sandisk SD Cards 16GB 32GB 64GB 128GB 256GB Extreme Ultra Memory Cards lot\", \"epid\": \"275316711001\", \"link\": \"https://www.ebay.com/itm/275316711001\", \"image\": \"https://i.ebayimg.com/images/g/FGwAAOSwsEZi4Ad5/s-l140.jpg\", \"condition\": \"Brand New\", \"seller_info\": {\"name\": \"memorydiscounters\", \"review_count\": 71667, \"positive_feedback_percent\": 99.8}, \"is_auction\": false, \"buy_it_now\": true, \"free_returns\": true, \"rating\": 5, \"ratings_total\": 8, \"sponsored\": true, \"prices\": [{\"value\": 7.24, \"raw\": \"$7.24\"}, {\"value\": 71.4, \"raw\": \"$71.40\"}], \"price\": {\"value\": 7.24, \"raw\": \"$7.24\"}}, {\"position\": 62, \"title\": \"SanDisk Mobile Ultra Class10 32GB microSD micro SDHC UHS-I U1 Flash Memory Card\", \"epid\": \"252104060486\", \"link\": \"https://www.ebay.com/itm/252104060486\", \"image\": \"https://i.ebayimg.com/images/g/DJoAAOSwFnFWBdpL/s-l140.jpg\", \"condition\": \"Brand New\", \"seller_info\": {\"name\": \"allizwell2k10\", \"review_count\": 392170, \"positive_feedback_percent\": 99.4}, \"is_auction\": false, \"buy_it_now\": true, \"free_returns\": true, \"sponsored\": true, \"prices\": [{\"value\": 8.99, \"raw\": \"$8.99\"}], \"price\": {\"value\": 8.99, \"raw\": \"$8.99\"}}, {\"position\": 63, \"title\": \"SanDisk SDCFXSB-064G-G46 Extreme CompactFlash 64GB Memory Card\", \"epid\": \"314803305269\", \"link\": \"https://www.ebay.com/itm/314803305269\", \"image\": \"https://i.ebayimg.com/images/g/dgkAAOSwMNtk71CB/s-l140.jpg\", \"condition\": \"Open Box\", \"seller_info\": {\"name\": \"drhow8335\", \"review_count\": 31, \"positive_feedback_percent\": 80}, \"is_auction\": false, \"buy_it_now\": false, \"free_returns\": false, \"shipping_cost\": 4.54, \"rating\": 5, \"ratings_total\": 13, \"sponsored\": true, \"best_offer\": true, \"prices\": [{\"value\": 30, \"raw\": \"$30.00\"}], \"price\": {\"value\": 30, \"raw\": \"$30.00\"}}, {\"position\": 64, \"title\": \"LOT 10x SanDisk SD 64GB Ultra PLUS SDXC UHS-1 Memory Card 130MB/s 64 GB 10 x\", \"epid\": \"405313843474\", \"link\": \"https://www.ebay.com/itm/405313843474\", \"image\": \"https://i.ebayimg.com/images/g/KH4AAOSwTChi88fV/s-l140.jpg\", \"condition\": \"Open Box\", \"seller_info\": {\"name\": \"memory561\", \"review_count\": 107314, \"positive_feedback_percent\": 99.8}, \"is_auction\": false, \"buy_it_now\": true, \"free_returns\": true, \"rating\": 5, \"ratings_total\": 3, \"sponsored\": true, \"prices\": [{\"value\": 59.99, \"raw\": \"$59.99\"}], \"price\": {\"value\": 59.99, \"raw\": \"$59.99\"}}], \"search_information\": {\"original_search_term\": \"SanDisk memory cards\"}, \"facets\": [{\"display_name\": \"Storage Capacity\", \"values\": [{\"name\": \"32 GB\", \"param_value\": \"facets=Storage%2520Capacity=32+GB\", \"count\": 5519}, {\"name\": \"64 GB\", \"param_value\": \"facets=Storage%2520Capacity=64+GB\", \"count\": 1880}, {\"name\": \"128 GB\", \"param_value\": \"facets=Storage%2520Capacity=128+GB\", \"count\": 1405}, {\"name\": \"16 GB\", \"param_value\": \"facets=Storage%2520Capacity=16+GB\", \"count\": 1255}, {\"name\": \"256 GB\", \"param_value\": \"facets=Storage%2520Capacity=256+GB\", \"count\": 720}, {\"name\": \"2 GB\", \"param_value\": \"facets=Storage%2520Capacity=2+GB\", \"count\": 419}, {\"name\": \"8 GB\", \"param_value\": \"facets=Storage%2520Capacity=8+GB\", \"count\": 519}, {\"name\": \"512 GB\", \"param_value\": \"facets=Storage%2520Capacity=512+GB\", \"count\": 312}], \"name\": \"Storage%2520Capacity\"}, {\"display_name\": \"Format\", \"values\": [{\"name\": \"SD\", \"param_value\": \"facets=Format=SD\", \"count\": 2472}, {\"name\": \"SDHC\", \"param_value\": \"facets=Format=SDHC\", \"count\": 2142}, {\"name\": \"SDXC\", \"param_value\": \"facets=Format=SDXC\", \"count\": 1625}, {\"name\": \"CompactFlash\", \"param_value\": \"facets=Format=CompactFlash\", \"count\": 1136}, {\"name\": \"MicroSD\", \"param_value\": \"facets=Format=MicroSD\", \"count\": 1311}, {\"name\": \"SDXC UHS-I\", \"param_value\": \"facets=Format=SDXC+UHS-I\", \"count\": 838}, {\"name\": \"CompactFlash I\", \"param_value\": \"facets=Format=CompactFlash+I\", \"count\": 518}, {\"name\": \"microSDXC\", \"param_value\": \"facets=Format=microSDXC\", \"count\": 515}], \"name\": \"Format\"}, {\"display_name\": \"Speed Class\", \"values\": [{\"name\": \"Class 10\", \"param_value\": \"facets=Speed%2520Class=Class+10\", \"count\": 6455}, {\"name\": \"Class 4\", \"param_value\": \"facets=Speed%2520Class=Class+4\", \"count\": 768}, {\"name\": \"UHS Speed Class 3\", \"param_value\": \"facets=Speed%2520Class=UHS+Speed+Class+3\", \"count\": 342}, {\"name\": \"UHS Speed Class 1\", \"param_value\": \"facets=Speed%2520Class=UHS+Speed+Class+1\", \"count\": 216}, {\"name\": \"Class 6\", \"param_value\": \"facets=Speed%2520Class=Class+6\", \"count\": 46}, {\"name\": \"Class 2\", \"param_value\": \"facets=Speed%2520Class=Class+2\", \"count\": 173}, {\"name\": \"Class 3\", \"param_value\": \"facets=Speed%2520Class=Class+3\", \"count\": 118}, {\"name\": \"A1\", \"param_value\": \"facets=Speed%2520Class=A1\", \"count\": 103}], \"name\": \"Speed%2520Class\"}, {\"display_name\": \"Compatible Brand\", \"values\": [{\"name\": \"Universal\", \"param_value\": \"facets=Compatible%2520Brand=Universal\", \"count\": 4083}, {\"name\": \"For Nikon\", \"param_value\": \"facets=Compatible%2520Brand=For+Nikon\", \"count\": 1250}, {\"name\": \"For Canon\", \"param_value\": \"facets=Compatible%2520Brand=For+Canon\", \"count\": 1318}, {\"name\": \"For Sony\", \"param_value\": \"facets=Compatible%2520Brand=For+Sony\", \"count\": 1082}, {\"name\": \"For Panasonic\", \"param_value\": \"facets=Compatible%2520Brand=For+Panasonic\", \"count\": 401}, {\"name\": \"For Universal\", \"param_value\": \"facets=Compatible%2520Brand=For+Universal\", \"count\": 771}, {\"name\": \"For Kodak\", \"param_value\": \"facets=Compatible%2520Brand=For+Kodak\", \"count\": 464}, {\"name\": \"For Olympus\", \"param_value\": \"facets=Compatible%2520Brand=For+Olympus\", \"count\": 90}], \"name\": \"Compatible%2520Brand\"}, {\"display_name\": \"Features\", \"values\": [{\"name\": \"High Speed\", \"param_value\": \"facets=Features=High+Speed\", \"count\": 7077}, {\"name\": \"High Capacity\", \"param_value\": \"facets=Features=High+Capacity\", \"count\": 6884}, {\"name\": \"Waterproof\", \"param_value\": \"facets=Features=Waterproof\", \"count\": 6287}, {\"name\": \"Wi-Fi\", \"param_value\": \"facets=Features=Wi-Fi\", \"count\": 180}, {\"name\": \"Not Specified\", \"param_value\": \"facets=Features=Not+Specified\", \"count\": 5572}], \"name\": \"Features\"}, {\"display_name\": \"Compatible Model\", \"values\": [{\"name\": \"Universal\", \"param_value\": \"facets=Compatible%2520Model=Universal\", \"count\": 3404}, {\"name\": \"For Apple iPhone X\", \"param_value\": \"facets=Compatible%2520Model=For+Apple+iPhone+X\", \"count\": 41}, {\"name\": \"For Apple iPhone 11\", \"param_value\": \"facets=Compatible%2520Model=For+Apple+iPhone+11\", \"count\": 26}, {\"name\": \"For Apple iPhone 11 Pro\", \"param_value\": \"facets=Compatible%2520Model=For+Apple+iPhone+11+Pro\", \"count\": 26}, {\"name\": \"For Apple iPhone 13 Pro\", \"param_value\": \"facets=Compatible%2520Model=For+Apple+iPhone+13+Pro\", \"count\": 26}, {\"name\": \"For Apple iPhone 13 mini\", \"param_value\": \"facets=Compatible%2520Model=For+Apple+iPhone+13+mini\", \"count\": 26}, {\"name\": \"For Apple iPhone SE\", \"param_value\": \"facets=Compatible%2520Model=For+Apple+iPhone+SE\", \"count\": 26}, {\"name\": \"For Apple iPhone 11 Pro Max\", \"param_value\": \"facets=Compatible%2520Model=For+Apple+iPhone+11+Pro+Max\", \"count\": 23}], \"name\": \"Compatible%2520Model\"}, {\"display_name\": \"Country/Region of Manufacture\", \"values\": [{\"name\": \"China\", \"param_value\": \"facets=Country%252FRegion%2520of%2520Manufacture=China\", \"count\": 969}, {\"name\": \"Malaysia\", \"param_value\": \"facets=Country%252FRegion%2520of%2520Manufacture=Malaysia\", \"count\": 235}, {\"name\": \"Unknown\", \"param_value\": \"facets=Country%252FRegion%2520of%2520Manufacture=Unknown\", \"count\": 100}, {\"name\": \"Japan\", \"param_value\": \"facets=Country%252FRegion%2520of%2520Manufacture=Japan\", \"count\": 96}, {\"name\": \"Taiwan\", \"param_value\": \"facets=Country%252FRegion%2520of%2520Manufacture=Taiwan\", \"count\": 80}, {\"name\": \"United States\", \"param_value\": \"facets=Country%252FRegion%2520of%2520Manufacture=United+States\", \"count\": 30}, {\"name\": \"Korea, Republic of\", \"param_value\": \"facets=Country%252FRegion%2520of%2520Manufacture=Korea,+Republic+of\", \"count\": 7}, {\"name\": \"Thailand\", \"param_value\": \"facets=Country%252FRegion%2520of%2520Manufacture=Thailand\", \"count\": 6}], \"name\": \"Country%252FRegion%2520of%2520Manufacture\"}, {\"display_name\": \"Series\", \"values\": [{\"name\": \"Samsung PRO\", \"param_value\": \"facets=Series=Samsung+PRO\", \"count\": 86}, {\"name\": \"Samsung EVO\", \"param_value\": \"facets=Series=Samsung+EVO\", \"count\": 59}, {\"name\": \"Not Specified\", \"param_value\": \"facets=Series=Not+Specified\", \"count\": 11923}], \"name\": \"Series\"}, {\"display_name\": \"Brand\", \"values\": [{\"name\": \"SanDisk\", \"param_value\": \"facets=Brand=SanDisk\", \"count\": 9521}, {\"name\": \"Sony\", \"param_value\": \"facets=Brand=Sony\", \"count\": 28}, {\"name\": \"Lexar\", \"param_value\": \"facets=Brand=Lexar\", \"count\": 24}, {\"name\": \"Transcend\", \"param_value\": \"facets=Brand=Transcend\", \"count\": 30}, {\"name\": \"PNY\", \"param_value\": \"facets=Brand=PNY\", \"count\": 13}, {\"name\": \"Unbranded\", \"param_value\": \"facets=Brand=Unbranded\", \"count\": 121}, {\"name\": \"Scandisk\", \"param_value\": \"facets=Brand=Scandisk\", \"count\": 35}, {\"name\": \"Western Digital\", \"param_value\": \"facets=Brand=Western+Digital\", \"count\": 29}], \"name\": \"Brand\"}, {\"display_name\": \"Show only\", \"values\": [{\"name\": \"Free Returns\", \"param_value\": \"facets=LH_FR=Free+Returns\"}, {\"name\": \"Returns Accepted\", \"param_value\": \"facets=LH_FR=Returns+Accepted\"}, {\"name\": \"Authorized Seller\", \"param_value\": \"facets=LH_FR=Authorized+Seller\"}, {\"name\": \"Completed Items\", \"param_value\": \"facets=LH_FR=Completed+Items\"}, {\"name\": \"Sold Items\", \"param_value\": \"facets=LH_FR=Sold+Items\"}, {\"name\": \"Deals & Savings\", \"param_value\": \"facets=LH_FR=Deals+&+Savings\"}, {\"name\": \"Authenticity Guarantee\", \"param_value\": \"facets=LH_FR=Authenticity+Guarantee\"}], \"name\": \"LH_FR\"}], \"pagination\": {\"has_next_page\": true, \"next_page\": 2, \"current_page\": 1, \"total_results\": 8100}}\n",
      "==================================\u001b[1m Ai Message \u001b[0m==================================\n",
      "\n",
      "Here are some SanDisk memory cards available on eBay along with their prices and links:\n",
      "\n",
      "1. **Pack of 10 Genuine SanDisk 16GB Class 4 SD SDHC Flash Memory Card**\n",
      "   - Price: $39.97\n",
      "   - [View on eBay](https://www.ebay.com/itm/405071797164)\n",
      "   - ![Image](https://i.ebayimg.com/images/g/lFMAAOSwjRVnRwBc/s-l500.jpg)\n",
      "\n",
      "2. **SanDisk 32GB Extreme C10 V30 UHS-I U3 SD 100MBs SDHC Memory card Pack of 5**\n",
      "   - Price: $42.49\n",
      "   - [View on eBay](https://www.ebay.com/itm/195435460588)\n",
      "   - ![Image](https://i.ebayimg.com/images/g/BOMAAOSwBRVjWTcJ/s-l500.jpg)\n",
      "\n",
      "3. **SanDisk Extreme PRO 128GB UHS-I U3 SDXC 200MB/s 4K Memory Card**\n",
      "   - Price: $19.95\n",
      "   - [View on eBay](https://www.ebay.com/itm/156442619957)\n",
      "   - ![Image](https://i.ebayimg.com/images/g/gJ0AAOSwqTVnAHSF/s-l140.jpg)\n",
      "\n",
      "4. **SanDisk 16GB Class 4 SDHC Memory Card**\n",
      "   - Price: $5.98\n",
      "   - [View on eBay](https://www.ebay.com/itm/156542390506)\n",
      "   - ![Image](https://i.ebayimg.com/images/g/MDMAAOSwfRlnRv2r/s-l140.jpg)\n",
      "\n",
      "5. **SanDisk 32GB Ultra SDHC UHS-I Memory Card Class 10 120 MB/s Full HD Camera**\n",
      "   - Price: $8.00\n",
      "   - [View on eBay](https://www.ebay.com/itm/193904175450)\n",
      "   - ![Image](https://i.ebayimg.com/images/g/5dsAAOSwCeRgyfwN/s-l140.jpg)\n",
      "\n",
      "You can explore more options and details [here on eBay](https://www.ebay.com/sch/i.html?_nkw=SanDisk+memory+cards&_sacat=0&_dmd=1&_fcid=1).\n"
     ]
    }
   ],
   "source": [
    "inputs = {\"messages\": [(\"user\", QUESTION)]}\n",
    "\n",
    "print_stream(graph.stream(inputs, stream_mode=\"values\"))"
   ]
  },
  {
   "cell_type": "markdown",
   "id": "56cbc405-26e2-471e-9626-2a0df07f5ddc",
   "metadata": {},
   "source": [
    "# Summary"
   ]
  },
  {
   "cell_type": "markdown",
   "id": "7381ea5f-7269-4e1f-8b0c-1e2c04bd84c0",
   "metadata": {},
   "source": [
    "In this notebook, we learned about how to create very smart API agents for simple or complex APIs that use Swagger or OpenAPI specifications.\n",
    "We see, again, that the key to success is to use: Agents with Expert tools + GPT-4 + good prompts.\n",
    "\n",
    "As homework, try to create a shopping assistant for Etsy e-commerce site using the following API spec: (you will need to register for free and create an API-Key)\n",
    "\n",
    "- https://developers.etsy.com/documentation/\n",
    "- https://www.etsy.com/openapi/generated/oas/3.0.0.json"
   ]
  },
  {
   "cell_type": "markdown",
   "id": "02073623-91b4-40d6-8eaf-cb6d9c6a7a9a",
   "metadata": {},
   "source": [
    "# NEXT\n",
    "\n",
    "The Next Notebook will guide you on how to add vision and audio to our engine."
   ]
  },
  {
   "cell_type": "code",
   "execution_count": null,
   "id": "32a33c2f-9487-4996-9da8-f57f0f1f314c",
   "metadata": {},
   "outputs": [],
   "source": []
  }
 ],
 "metadata": {
  "kernelspec": {
   "display_name": "GPTSearch3 (Python 3.12)",
   "language": "python",
   "name": "gptsearch3"
  },
  "language_info": {
   "codemirror_mode": {
    "name": "ipython",
    "version": 3
   },
   "file_extension": ".py",
   "mimetype": "text/x-python",
   "name": "python",
   "nbconvert_exporter": "python",
   "pygments_lexer": "ipython3",
   "version": "3.12.8"
  }
 },
 "nbformat": 4,
 "nbformat_minor": 5
}
